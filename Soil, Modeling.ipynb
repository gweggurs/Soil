{
 "cells": [
  {
   "cell_type": "code",
   "execution_count": 1,
   "id": "6d2664ac",
   "metadata": {},
   "outputs": [],
   "source": [
    "## IT'S DANGEROUS TO GO ALONE! TAKE THIS:\n",
    "import numpy as np\n",
    "import pandas as pd\n",
    "import matplotlib.pyplot as plt\n",
    "import seaborn as sns\n",
    "from sklearn.preprocessing import StandardScaler\n",
    "from sklearn.preprocessing import MinMaxScaler\n",
    "from sklearn.model_selection import train_test_split\n",
    "from sklearn.linear_model import LogisticRegression\n",
    "from sklearn.tree import DecisionTreeClassifier\n",
    "from sklearn.decomposition import PCA\n",
    "#...that should be a good start"
   ]
  },
  {
   "cell_type": "markdown",
   "id": "c88d284d",
   "metadata": {},
   "source": [
    "# Soil, Modeling\n",
    "---\n",
    "**Let the Soil Play its Simple Part**\n",
    "\n",
    "Greg Sakowski\n",
    "\n",
    "* Book 6 of 7\n",
    "* Modeling fully numeric data. \n",
    "* Reading from CSV: soil.csv, \n",
    "* Writing to CSV: soilmodel.csv, feature_imp_df.csv\n",
    "* **Warning: Cell #59 in the Gradient Boosting Section is a GridSearchCV and may run for hours**\n",
    "---\n",
    "## Table of Contents:\n",
    "\n",
    "[Train, Validate, and Test sets](#Train,-Validate,-and-Test-sets)\n",
    "\n",
    "[Logistic Regression](#Logistic-Regression)\n",
    "\n",
    "[Decision Tree](#Decision-Tree)\n",
    "\n",
    "[Random Forest](#Random-Forest)\n",
    "\n",
    "[Gradient Boosting](#Gradient-Boosting)\n",
    "\n",
    "[Feature Importance Comparison](#Feature-Importance-Comparison)\n",
    "\n",
    "[Conclusions](#Conclusions)\n",
    "\n",
    "---\n",
    "\n",
    "The cleaning, reformatting, and exploratory analysis are behind us and our data, 'soil', is ready to be used in modeling. \n",
    "The goal of our modeling is to predict a binary class of \"in drought\" or \"not in drought\". This is contained in our target variable, 'in_drought', where 1's are the positive, 'in_drought' class and 0's are the 'not in drought' class.\n",
    "\n",
    "We will be attempting the following classification models using a full training and validation set from our data to make class predictions:\n",
    "\n",
    "   * Logistic Regression\n",
    "       - We will start with the default settings to set a baseline, and can optimize from there.\n",
    "   * Decision Tree Classifier\n",
    "       - We will use the defaults at first and similar to the LogReg we can iterate on our results.\n",
    "   * Random Forest Classifier\n",
    "       - Again, a test run with default followed by some optimization.\n",
    "   * Gradient Boosting Classifier\n",
    "       - We will employ a more exhaustive Grid Search and Cross-Validation to optimize our results.\n",
    "\n",
    "As a reminder, we begain this project with the assumption that we can predict drought using data related to weather and conventional agricultural inputs, operationally defined using the cost of those inputs. Our data related to drought was reported at the weekly, county level. \n",
    "\n",
    "We can refer to our observations of \"in drought\" or \"not in drought\" as *county-weeks*: the observed county *is* or *is not* in drought for the observed week. Our drought data included the date for the county-week observations and we have split these dates into Year, Month, and Day data. We initially had data for the State and County, which will be dropped in favor for the unique Latitude and Longitude for each county. \n",
    "\n",
    "Our Exploratory data analysis had some early signs of a potential connection between the rate of county-weeks in drought and states with higher agricultural activity--when we separated the 15 \"Farmland\" states that we would be analyzing and modeling we saw a 47% positive rate for observing drought in a county-week, a 10% increase compared to 37% seen for the United States as a whole.\n",
    "\n",
    "From the EDA, we know that we have some potential for multicollinearity for our logistic regression. We will separate our \"label\" variables FIPS, State, and County and we will drop the mintemp, avgtemp, Chem_operations, Fert_operations, and both the chem and fert yearly expense columns to avoid multicollinearity. In the interest of consistency and comparing the models, we will use the same features for all four models.\n",
    "\n",
    "First, a quick double check of our data by reading in our soil dataframe"
   ]
  },
  {
   "cell_type": "code",
   "execution_count": 2,
   "id": "8c6b9c67",
   "metadata": {
    "scrolled": true
   },
   "outputs": [
    {
     "data": {
      "text/html": [
       "<div>\n",
       "<style scoped>\n",
       "    .dataframe tbody tr th:only-of-type {\n",
       "        vertical-align: middle;\n",
       "    }\n",
       "\n",
       "    .dataframe tbody tr th {\n",
       "        vertical-align: top;\n",
       "    }\n",
       "\n",
       "    .dataframe thead th {\n",
       "        text-align: right;\n",
       "    }\n",
       "</style>\n",
       "<table border=\"1\" class=\"dataframe\">\n",
       "  <thead>\n",
       "    <tr style=\"text-align: right;\">\n",
       "      <th></th>\n",
       "      <th>Date</th>\n",
       "      <th>FIPS</th>\n",
       "      <th>County</th>\n",
       "      <th>State</th>\n",
       "      <th>total_Sq_Mi</th>\n",
       "      <th>in_drought</th>\n",
       "      <th>Year</th>\n",
       "      <th>Month</th>\n",
       "      <th>monthly_precip</th>\n",
       "      <th>mintemp</th>\n",
       "      <th>...</th>\n",
       "      <th>yearly_chem_dollars</th>\n",
       "      <th>Chem_operations</th>\n",
       "      <th>Acres_operated</th>\n",
       "      <th>Operations</th>\n",
       "      <th>yearly_fert_dollars</th>\n",
       "      <th>Fert_operations</th>\n",
       "      <th>Lat</th>\n",
       "      <th>Long</th>\n",
       "      <th>Day</th>\n",
       "      <th>yearly_conv_input_exp</th>\n",
       "    </tr>\n",
       "  </thead>\n",
       "  <tbody>\n",
       "    <tr>\n",
       "      <th>0</th>\n",
       "      <td>2017-12-26</td>\n",
       "      <td>5007</td>\n",
       "      <td>Benton County</td>\n",
       "      <td>AR</td>\n",
       "      <td>873.97</td>\n",
       "      <td>1</td>\n",
       "      <td>2017</td>\n",
       "      <td>12</td>\n",
       "      <td>1.92</td>\n",
       "      <td>28.8</td>\n",
       "      <td>...</td>\n",
       "      <td>1072000.0</td>\n",
       "      <td>702.0</td>\n",
       "      <td>243753.0</td>\n",
       "      <td>1936</td>\n",
       "      <td>2967000.0</td>\n",
       "      <td>798.0</td>\n",
       "      <td>36.337825</td>\n",
       "      <td>-94.256187</td>\n",
       "      <td>26</td>\n",
       "      <td>4039000.0</td>\n",
       "    </tr>\n",
       "    <tr>\n",
       "      <th>1</th>\n",
       "      <td>2017-12-19</td>\n",
       "      <td>5007</td>\n",
       "      <td>Benton County</td>\n",
       "      <td>AR</td>\n",
       "      <td>873.97</td>\n",
       "      <td>1</td>\n",
       "      <td>2017</td>\n",
       "      <td>12</td>\n",
       "      <td>1.92</td>\n",
       "      <td>28.8</td>\n",
       "      <td>...</td>\n",
       "      <td>1072000.0</td>\n",
       "      <td>702.0</td>\n",
       "      <td>243753.0</td>\n",
       "      <td>1936</td>\n",
       "      <td>2967000.0</td>\n",
       "      <td>798.0</td>\n",
       "      <td>36.337825</td>\n",
       "      <td>-94.256187</td>\n",
       "      <td>19</td>\n",
       "      <td>4039000.0</td>\n",
       "    </tr>\n",
       "    <tr>\n",
       "      <th>2</th>\n",
       "      <td>2017-12-12</td>\n",
       "      <td>5007</td>\n",
       "      <td>Benton County</td>\n",
       "      <td>AR</td>\n",
       "      <td>873.97</td>\n",
       "      <td>1</td>\n",
       "      <td>2017</td>\n",
       "      <td>12</td>\n",
       "      <td>1.92</td>\n",
       "      <td>28.8</td>\n",
       "      <td>...</td>\n",
       "      <td>1072000.0</td>\n",
       "      <td>702.0</td>\n",
       "      <td>243753.0</td>\n",
       "      <td>1936</td>\n",
       "      <td>2967000.0</td>\n",
       "      <td>798.0</td>\n",
       "      <td>36.337825</td>\n",
       "      <td>-94.256187</td>\n",
       "      <td>12</td>\n",
       "      <td>4039000.0</td>\n",
       "    </tr>\n",
       "    <tr>\n",
       "      <th>3</th>\n",
       "      <td>2017-12-05</td>\n",
       "      <td>5007</td>\n",
       "      <td>Benton County</td>\n",
       "      <td>AR</td>\n",
       "      <td>873.97</td>\n",
       "      <td>1</td>\n",
       "      <td>2017</td>\n",
       "      <td>12</td>\n",
       "      <td>1.92</td>\n",
       "      <td>28.8</td>\n",
       "      <td>...</td>\n",
       "      <td>1072000.0</td>\n",
       "      <td>702.0</td>\n",
       "      <td>243753.0</td>\n",
       "      <td>1936</td>\n",
       "      <td>2967000.0</td>\n",
       "      <td>798.0</td>\n",
       "      <td>36.337825</td>\n",
       "      <td>-94.256187</td>\n",
       "      <td>5</td>\n",
       "      <td>4039000.0</td>\n",
       "    </tr>\n",
       "    <tr>\n",
       "      <th>4</th>\n",
       "      <td>2017-11-28</td>\n",
       "      <td>5007</td>\n",
       "      <td>Benton County</td>\n",
       "      <td>AR</td>\n",
       "      <td>873.97</td>\n",
       "      <td>1</td>\n",
       "      <td>2017</td>\n",
       "      <td>11</td>\n",
       "      <td>1.58</td>\n",
       "      <td>40.7</td>\n",
       "      <td>...</td>\n",
       "      <td>1072000.0</td>\n",
       "      <td>702.0</td>\n",
       "      <td>243753.0</td>\n",
       "      <td>1936</td>\n",
       "      <td>2967000.0</td>\n",
       "      <td>798.0</td>\n",
       "      <td>36.337825</td>\n",
       "      <td>-94.256187</td>\n",
       "      <td>28</td>\n",
       "      <td>4039000.0</td>\n",
       "    </tr>\n",
       "    <tr>\n",
       "      <th>...</th>\n",
       "      <td>...</td>\n",
       "      <td>...</td>\n",
       "      <td>...</td>\n",
       "      <td>...</td>\n",
       "      <td>...</td>\n",
       "      <td>...</td>\n",
       "      <td>...</td>\n",
       "      <td>...</td>\n",
       "      <td>...</td>\n",
       "      <td>...</td>\n",
       "      <td>...</td>\n",
       "      <td>...</td>\n",
       "      <td>...</td>\n",
       "      <td>...</td>\n",
       "      <td>...</td>\n",
       "      <td>...</td>\n",
       "      <td>...</td>\n",
       "      <td>...</td>\n",
       "      <td>...</td>\n",
       "      <td>...</td>\n",
       "      <td>...</td>\n",
       "    </tr>\n",
       "    <tr>\n",
       "      <th>307016</th>\n",
       "      <td>2002-01-29</td>\n",
       "      <td>53029</td>\n",
       "      <td>Island County</td>\n",
       "      <td>WA</td>\n",
       "      <td>213.97</td>\n",
       "      <td>0</td>\n",
       "      <td>2002</td>\n",
       "      <td>1</td>\n",
       "      <td>3.90</td>\n",
       "      <td>36.6</td>\n",
       "      <td>...</td>\n",
       "      <td>85000.0</td>\n",
       "      <td>70.0</td>\n",
       "      <td>15018.0</td>\n",
       "      <td>348</td>\n",
       "      <td>135000.0</td>\n",
       "      <td>72.0</td>\n",
       "      <td>48.158436</td>\n",
       "      <td>-122.670500</td>\n",
       "      <td>29</td>\n",
       "      <td>220000.0</td>\n",
       "    </tr>\n",
       "    <tr>\n",
       "      <th>307017</th>\n",
       "      <td>2002-01-22</td>\n",
       "      <td>53029</td>\n",
       "      <td>Island County</td>\n",
       "      <td>WA</td>\n",
       "      <td>213.97</td>\n",
       "      <td>0</td>\n",
       "      <td>2002</td>\n",
       "      <td>1</td>\n",
       "      <td>3.90</td>\n",
       "      <td>36.6</td>\n",
       "      <td>...</td>\n",
       "      <td>85000.0</td>\n",
       "      <td>70.0</td>\n",
       "      <td>15018.0</td>\n",
       "      <td>348</td>\n",
       "      <td>135000.0</td>\n",
       "      <td>72.0</td>\n",
       "      <td>48.158436</td>\n",
       "      <td>-122.670500</td>\n",
       "      <td>22</td>\n",
       "      <td>220000.0</td>\n",
       "    </tr>\n",
       "    <tr>\n",
       "      <th>307018</th>\n",
       "      <td>2002-01-15</td>\n",
       "      <td>53029</td>\n",
       "      <td>Island County</td>\n",
       "      <td>WA</td>\n",
       "      <td>213.97</td>\n",
       "      <td>0</td>\n",
       "      <td>2002</td>\n",
       "      <td>1</td>\n",
       "      <td>3.90</td>\n",
       "      <td>36.6</td>\n",
       "      <td>...</td>\n",
       "      <td>85000.0</td>\n",
       "      <td>70.0</td>\n",
       "      <td>15018.0</td>\n",
       "      <td>348</td>\n",
       "      <td>135000.0</td>\n",
       "      <td>72.0</td>\n",
       "      <td>48.158436</td>\n",
       "      <td>-122.670500</td>\n",
       "      <td>15</td>\n",
       "      <td>220000.0</td>\n",
       "    </tr>\n",
       "    <tr>\n",
       "      <th>307019</th>\n",
       "      <td>2002-01-08</td>\n",
       "      <td>53029</td>\n",
       "      <td>Island County</td>\n",
       "      <td>WA</td>\n",
       "      <td>213.97</td>\n",
       "      <td>0</td>\n",
       "      <td>2002</td>\n",
       "      <td>1</td>\n",
       "      <td>3.90</td>\n",
       "      <td>36.6</td>\n",
       "      <td>...</td>\n",
       "      <td>85000.0</td>\n",
       "      <td>70.0</td>\n",
       "      <td>15018.0</td>\n",
       "      <td>348</td>\n",
       "      <td>135000.0</td>\n",
       "      <td>72.0</td>\n",
       "      <td>48.158436</td>\n",
       "      <td>-122.670500</td>\n",
       "      <td>8</td>\n",
       "      <td>220000.0</td>\n",
       "    </tr>\n",
       "    <tr>\n",
       "      <th>307020</th>\n",
       "      <td>2002-01-01</td>\n",
       "      <td>53029</td>\n",
       "      <td>Island County</td>\n",
       "      <td>WA</td>\n",
       "      <td>213.97</td>\n",
       "      <td>0</td>\n",
       "      <td>2002</td>\n",
       "      <td>1</td>\n",
       "      <td>3.90</td>\n",
       "      <td>36.6</td>\n",
       "      <td>...</td>\n",
       "      <td>85000.0</td>\n",
       "      <td>70.0</td>\n",
       "      <td>15018.0</td>\n",
       "      <td>348</td>\n",
       "      <td>135000.0</td>\n",
       "      <td>72.0</td>\n",
       "      <td>48.158436</td>\n",
       "      <td>-122.670500</td>\n",
       "      <td>1</td>\n",
       "      <td>220000.0</td>\n",
       "    </tr>\n",
       "  </tbody>\n",
       "</table>\n",
       "<p>307021 rows × 22 columns</p>\n",
       "</div>"
      ],
      "text/plain": [
       "              Date   FIPS         County State  total_Sq_Mi  in_drought  Year  \\\n",
       "0       2017-12-26   5007  Benton County    AR       873.97           1  2017   \n",
       "1       2017-12-19   5007  Benton County    AR       873.97           1  2017   \n",
       "2       2017-12-12   5007  Benton County    AR       873.97           1  2017   \n",
       "3       2017-12-05   5007  Benton County    AR       873.97           1  2017   \n",
       "4       2017-11-28   5007  Benton County    AR       873.97           1  2017   \n",
       "...            ...    ...            ...   ...          ...         ...   ...   \n",
       "307016  2002-01-29  53029  Island County    WA       213.97           0  2002   \n",
       "307017  2002-01-22  53029  Island County    WA       213.97           0  2002   \n",
       "307018  2002-01-15  53029  Island County    WA       213.97           0  2002   \n",
       "307019  2002-01-08  53029  Island County    WA       213.97           0  2002   \n",
       "307020  2002-01-01  53029  Island County    WA       213.97           0  2002   \n",
       "\n",
       "        Month  monthly_precip  mintemp  ...  yearly_chem_dollars  \\\n",
       "0          12            1.92     28.8  ...            1072000.0   \n",
       "1          12            1.92     28.8  ...            1072000.0   \n",
       "2          12            1.92     28.8  ...            1072000.0   \n",
       "3          12            1.92     28.8  ...            1072000.0   \n",
       "4          11            1.58     40.7  ...            1072000.0   \n",
       "...       ...             ...      ...  ...                  ...   \n",
       "307016      1            3.90     36.6  ...              85000.0   \n",
       "307017      1            3.90     36.6  ...              85000.0   \n",
       "307018      1            3.90     36.6  ...              85000.0   \n",
       "307019      1            3.90     36.6  ...              85000.0   \n",
       "307020      1            3.90     36.6  ...              85000.0   \n",
       "\n",
       "        Chem_operations  Acres_operated  Operations  yearly_fert_dollars  \\\n",
       "0                 702.0        243753.0        1936            2967000.0   \n",
       "1                 702.0        243753.0        1936            2967000.0   \n",
       "2                 702.0        243753.0        1936            2967000.0   \n",
       "3                 702.0        243753.0        1936            2967000.0   \n",
       "4                 702.0        243753.0        1936            2967000.0   \n",
       "...                 ...             ...         ...                  ...   \n",
       "307016             70.0         15018.0         348             135000.0   \n",
       "307017             70.0         15018.0         348             135000.0   \n",
       "307018             70.0         15018.0         348             135000.0   \n",
       "307019             70.0         15018.0         348             135000.0   \n",
       "307020             70.0         15018.0         348             135000.0   \n",
       "\n",
       "        Fert_operations        Lat        Long  Day  yearly_conv_input_exp  \n",
       "0                 798.0  36.337825  -94.256187   26              4039000.0  \n",
       "1                 798.0  36.337825  -94.256187   19              4039000.0  \n",
       "2                 798.0  36.337825  -94.256187   12              4039000.0  \n",
       "3                 798.0  36.337825  -94.256187    5              4039000.0  \n",
       "4                 798.0  36.337825  -94.256187   28              4039000.0  \n",
       "...                 ...        ...         ...  ...                    ...  \n",
       "307016             72.0  48.158436 -122.670500   29               220000.0  \n",
       "307017             72.0  48.158436 -122.670500   22               220000.0  \n",
       "307018             72.0  48.158436 -122.670500   15               220000.0  \n",
       "307019             72.0  48.158436 -122.670500    8               220000.0  \n",
       "307020             72.0  48.158436 -122.670500    1               220000.0  \n",
       "\n",
       "[307021 rows x 22 columns]"
      ]
     },
     "execution_count": 2,
     "metadata": {},
     "output_type": "execute_result"
    }
   ],
   "source": [
    "#reading in our data\n",
    "soil = pd.read_csv('data/soil.csv')\n",
    "soil"
   ]
  },
  {
   "cell_type": "code",
   "execution_count": 3,
   "id": "8bbf2a3f",
   "metadata": {
    "scrolled": false
   },
   "outputs": [
    {
     "name": "stdout",
     "output_type": "stream",
     "text": [
      "<class 'pandas.core.frame.DataFrame'>\n",
      "RangeIndex: 307021 entries, 0 to 307020\n",
      "Data columns (total 22 columns):\n",
      " #   Column                 Non-Null Count   Dtype  \n",
      "---  ------                 --------------   -----  \n",
      " 0   Date                   307021 non-null  object \n",
      " 1   FIPS                   307021 non-null  int64  \n",
      " 2   County                 307021 non-null  object \n",
      " 3   State                  307021 non-null  object \n",
      " 4   total_Sq_Mi            307021 non-null  float64\n",
      " 5   in_drought             307021 non-null  int64  \n",
      " 6   Year                   307021 non-null  int64  \n",
      " 7   Month                  307021 non-null  int64  \n",
      " 8   monthly_precip         307021 non-null  float64\n",
      " 9   mintemp                307021 non-null  float64\n",
      " 10  maxtemp                307021 non-null  float64\n",
      " 11  avgtemp                307021 non-null  float64\n",
      " 12  yearly_chem_dollars    307021 non-null  float64\n",
      " 13  Chem_operations        307021 non-null  float64\n",
      " 14  Acres_operated         307021 non-null  float64\n",
      " 15  Operations             307021 non-null  int64  \n",
      " 16  yearly_fert_dollars    307021 non-null  float64\n",
      " 17  Fert_operations        307021 non-null  float64\n",
      " 18  Lat                    307021 non-null  float64\n",
      " 19  Long                   307021 non-null  float64\n",
      " 20  Day                    307021 non-null  int64  \n",
      " 21  yearly_conv_input_exp  307021 non-null  float64\n",
      "dtypes: float64(13), int64(6), object(3)\n",
      "memory usage: 51.5+ MB\n"
     ]
    }
   ],
   "source": [
    "#a final check for nulls\n",
    "soil.info()"
   ]
  },
  {
   "cell_type": "code",
   "execution_count": 4,
   "id": "df72cbb3",
   "metadata": {},
   "outputs": [
    {
     "data": {
      "text/html": [
       "<div>\n",
       "<style scoped>\n",
       "    .dataframe tbody tr th:only-of-type {\n",
       "        vertical-align: middle;\n",
       "    }\n",
       "\n",
       "    .dataframe tbody tr th {\n",
       "        vertical-align: top;\n",
       "    }\n",
       "\n",
       "    .dataframe thead th {\n",
       "        text-align: right;\n",
       "    }\n",
       "</style>\n",
       "<table border=\"1\" class=\"dataframe\">\n",
       "  <thead>\n",
       "    <tr style=\"text-align: right;\">\n",
       "      <th></th>\n",
       "      <th>Date</th>\n",
       "      <th>FIPS</th>\n",
       "      <th>County</th>\n",
       "      <th>State</th>\n",
       "      <th>total_Sq_Mi</th>\n",
       "      <th>in_drought</th>\n",
       "      <th>Year</th>\n",
       "      <th>Month</th>\n",
       "      <th>Day</th>\n",
       "      <th>monthly_precip</th>\n",
       "      <th>...</th>\n",
       "      <th>avgtemp</th>\n",
       "      <th>yearly_chem_dollars</th>\n",
       "      <th>Chem_operations</th>\n",
       "      <th>Acres_operated</th>\n",
       "      <th>Operations</th>\n",
       "      <th>yearly_fert_dollars</th>\n",
       "      <th>Fert_operations</th>\n",
       "      <th>yearly_conv_input_exp</th>\n",
       "      <th>Lat</th>\n",
       "      <th>Long</th>\n",
       "    </tr>\n",
       "  </thead>\n",
       "  <tbody>\n",
       "    <tr>\n",
       "      <th>0</th>\n",
       "      <td>2017-12-26</td>\n",
       "      <td>5007</td>\n",
       "      <td>Benton County</td>\n",
       "      <td>AR</td>\n",
       "      <td>873.97</td>\n",
       "      <td>1</td>\n",
       "      <td>2017</td>\n",
       "      <td>12</td>\n",
       "      <td>26</td>\n",
       "      <td>1.92</td>\n",
       "      <td>...</td>\n",
       "      <td>38.9</td>\n",
       "      <td>1072000.0</td>\n",
       "      <td>702.0</td>\n",
       "      <td>243753.0</td>\n",
       "      <td>1936</td>\n",
       "      <td>2967000.0</td>\n",
       "      <td>798.0</td>\n",
       "      <td>4039000.0</td>\n",
       "      <td>36.337825</td>\n",
       "      <td>-94.256187</td>\n",
       "    </tr>\n",
       "    <tr>\n",
       "      <th>1</th>\n",
       "      <td>2017-12-19</td>\n",
       "      <td>5007</td>\n",
       "      <td>Benton County</td>\n",
       "      <td>AR</td>\n",
       "      <td>873.97</td>\n",
       "      <td>1</td>\n",
       "      <td>2017</td>\n",
       "      <td>12</td>\n",
       "      <td>19</td>\n",
       "      <td>1.92</td>\n",
       "      <td>...</td>\n",
       "      <td>38.9</td>\n",
       "      <td>1072000.0</td>\n",
       "      <td>702.0</td>\n",
       "      <td>243753.0</td>\n",
       "      <td>1936</td>\n",
       "      <td>2967000.0</td>\n",
       "      <td>798.0</td>\n",
       "      <td>4039000.0</td>\n",
       "      <td>36.337825</td>\n",
       "      <td>-94.256187</td>\n",
       "    </tr>\n",
       "    <tr>\n",
       "      <th>2</th>\n",
       "      <td>2017-12-12</td>\n",
       "      <td>5007</td>\n",
       "      <td>Benton County</td>\n",
       "      <td>AR</td>\n",
       "      <td>873.97</td>\n",
       "      <td>1</td>\n",
       "      <td>2017</td>\n",
       "      <td>12</td>\n",
       "      <td>12</td>\n",
       "      <td>1.92</td>\n",
       "      <td>...</td>\n",
       "      <td>38.9</td>\n",
       "      <td>1072000.0</td>\n",
       "      <td>702.0</td>\n",
       "      <td>243753.0</td>\n",
       "      <td>1936</td>\n",
       "      <td>2967000.0</td>\n",
       "      <td>798.0</td>\n",
       "      <td>4039000.0</td>\n",
       "      <td>36.337825</td>\n",
       "      <td>-94.256187</td>\n",
       "    </tr>\n",
       "    <tr>\n",
       "      <th>3</th>\n",
       "      <td>2017-12-05</td>\n",
       "      <td>5007</td>\n",
       "      <td>Benton County</td>\n",
       "      <td>AR</td>\n",
       "      <td>873.97</td>\n",
       "      <td>1</td>\n",
       "      <td>2017</td>\n",
       "      <td>12</td>\n",
       "      <td>5</td>\n",
       "      <td>1.92</td>\n",
       "      <td>...</td>\n",
       "      <td>38.9</td>\n",
       "      <td>1072000.0</td>\n",
       "      <td>702.0</td>\n",
       "      <td>243753.0</td>\n",
       "      <td>1936</td>\n",
       "      <td>2967000.0</td>\n",
       "      <td>798.0</td>\n",
       "      <td>4039000.0</td>\n",
       "      <td>36.337825</td>\n",
       "      <td>-94.256187</td>\n",
       "    </tr>\n",
       "    <tr>\n",
       "      <th>4</th>\n",
       "      <td>2017-11-28</td>\n",
       "      <td>5007</td>\n",
       "      <td>Benton County</td>\n",
       "      <td>AR</td>\n",
       "      <td>873.97</td>\n",
       "      <td>1</td>\n",
       "      <td>2017</td>\n",
       "      <td>11</td>\n",
       "      <td>28</td>\n",
       "      <td>1.58</td>\n",
       "      <td>...</td>\n",
       "      <td>51.7</td>\n",
       "      <td>1072000.0</td>\n",
       "      <td>702.0</td>\n",
       "      <td>243753.0</td>\n",
       "      <td>1936</td>\n",
       "      <td>2967000.0</td>\n",
       "      <td>798.0</td>\n",
       "      <td>4039000.0</td>\n",
       "      <td>36.337825</td>\n",
       "      <td>-94.256187</td>\n",
       "    </tr>\n",
       "    <tr>\n",
       "      <th>...</th>\n",
       "      <td>...</td>\n",
       "      <td>...</td>\n",
       "      <td>...</td>\n",
       "      <td>...</td>\n",
       "      <td>...</td>\n",
       "      <td>...</td>\n",
       "      <td>...</td>\n",
       "      <td>...</td>\n",
       "      <td>...</td>\n",
       "      <td>...</td>\n",
       "      <td>...</td>\n",
       "      <td>...</td>\n",
       "      <td>...</td>\n",
       "      <td>...</td>\n",
       "      <td>...</td>\n",
       "      <td>...</td>\n",
       "      <td>...</td>\n",
       "      <td>...</td>\n",
       "      <td>...</td>\n",
       "      <td>...</td>\n",
       "      <td>...</td>\n",
       "    </tr>\n",
       "    <tr>\n",
       "      <th>307016</th>\n",
       "      <td>2002-01-29</td>\n",
       "      <td>53029</td>\n",
       "      <td>Island County</td>\n",
       "      <td>WA</td>\n",
       "      <td>213.97</td>\n",
       "      <td>0</td>\n",
       "      <td>2002</td>\n",
       "      <td>1</td>\n",
       "      <td>29</td>\n",
       "      <td>3.90</td>\n",
       "      <td>...</td>\n",
       "      <td>41.1</td>\n",
       "      <td>85000.0</td>\n",
       "      <td>70.0</td>\n",
       "      <td>15018.0</td>\n",
       "      <td>348</td>\n",
       "      <td>135000.0</td>\n",
       "      <td>72.0</td>\n",
       "      <td>220000.0</td>\n",
       "      <td>48.158436</td>\n",
       "      <td>-122.670500</td>\n",
       "    </tr>\n",
       "    <tr>\n",
       "      <th>307017</th>\n",
       "      <td>2002-01-22</td>\n",
       "      <td>53029</td>\n",
       "      <td>Island County</td>\n",
       "      <td>WA</td>\n",
       "      <td>213.97</td>\n",
       "      <td>0</td>\n",
       "      <td>2002</td>\n",
       "      <td>1</td>\n",
       "      <td>22</td>\n",
       "      <td>3.90</td>\n",
       "      <td>...</td>\n",
       "      <td>41.1</td>\n",
       "      <td>85000.0</td>\n",
       "      <td>70.0</td>\n",
       "      <td>15018.0</td>\n",
       "      <td>348</td>\n",
       "      <td>135000.0</td>\n",
       "      <td>72.0</td>\n",
       "      <td>220000.0</td>\n",
       "      <td>48.158436</td>\n",
       "      <td>-122.670500</td>\n",
       "    </tr>\n",
       "    <tr>\n",
       "      <th>307018</th>\n",
       "      <td>2002-01-15</td>\n",
       "      <td>53029</td>\n",
       "      <td>Island County</td>\n",
       "      <td>WA</td>\n",
       "      <td>213.97</td>\n",
       "      <td>0</td>\n",
       "      <td>2002</td>\n",
       "      <td>1</td>\n",
       "      <td>15</td>\n",
       "      <td>3.90</td>\n",
       "      <td>...</td>\n",
       "      <td>41.1</td>\n",
       "      <td>85000.0</td>\n",
       "      <td>70.0</td>\n",
       "      <td>15018.0</td>\n",
       "      <td>348</td>\n",
       "      <td>135000.0</td>\n",
       "      <td>72.0</td>\n",
       "      <td>220000.0</td>\n",
       "      <td>48.158436</td>\n",
       "      <td>-122.670500</td>\n",
       "    </tr>\n",
       "    <tr>\n",
       "      <th>307019</th>\n",
       "      <td>2002-01-08</td>\n",
       "      <td>53029</td>\n",
       "      <td>Island County</td>\n",
       "      <td>WA</td>\n",
       "      <td>213.97</td>\n",
       "      <td>0</td>\n",
       "      <td>2002</td>\n",
       "      <td>1</td>\n",
       "      <td>8</td>\n",
       "      <td>3.90</td>\n",
       "      <td>...</td>\n",
       "      <td>41.1</td>\n",
       "      <td>85000.0</td>\n",
       "      <td>70.0</td>\n",
       "      <td>15018.0</td>\n",
       "      <td>348</td>\n",
       "      <td>135000.0</td>\n",
       "      <td>72.0</td>\n",
       "      <td>220000.0</td>\n",
       "      <td>48.158436</td>\n",
       "      <td>-122.670500</td>\n",
       "    </tr>\n",
       "    <tr>\n",
       "      <th>307020</th>\n",
       "      <td>2002-01-01</td>\n",
       "      <td>53029</td>\n",
       "      <td>Island County</td>\n",
       "      <td>WA</td>\n",
       "      <td>213.97</td>\n",
       "      <td>0</td>\n",
       "      <td>2002</td>\n",
       "      <td>1</td>\n",
       "      <td>1</td>\n",
       "      <td>3.90</td>\n",
       "      <td>...</td>\n",
       "      <td>41.1</td>\n",
       "      <td>85000.0</td>\n",
       "      <td>70.0</td>\n",
       "      <td>15018.0</td>\n",
       "      <td>348</td>\n",
       "      <td>135000.0</td>\n",
       "      <td>72.0</td>\n",
       "      <td>220000.0</td>\n",
       "      <td>48.158436</td>\n",
       "      <td>-122.670500</td>\n",
       "    </tr>\n",
       "  </tbody>\n",
       "</table>\n",
       "<p>307021 rows × 22 columns</p>\n",
       "</div>"
      ],
      "text/plain": [
       "              Date   FIPS         County State  total_Sq_Mi  in_drought  Year  \\\n",
       "0       2017-12-26   5007  Benton County    AR       873.97           1  2017   \n",
       "1       2017-12-19   5007  Benton County    AR       873.97           1  2017   \n",
       "2       2017-12-12   5007  Benton County    AR       873.97           1  2017   \n",
       "3       2017-12-05   5007  Benton County    AR       873.97           1  2017   \n",
       "4       2017-11-28   5007  Benton County    AR       873.97           1  2017   \n",
       "...            ...    ...            ...   ...          ...         ...   ...   \n",
       "307016  2002-01-29  53029  Island County    WA       213.97           0  2002   \n",
       "307017  2002-01-22  53029  Island County    WA       213.97           0  2002   \n",
       "307018  2002-01-15  53029  Island County    WA       213.97           0  2002   \n",
       "307019  2002-01-08  53029  Island County    WA       213.97           0  2002   \n",
       "307020  2002-01-01  53029  Island County    WA       213.97           0  2002   \n",
       "\n",
       "        Month  Day  monthly_precip  ...  avgtemp  yearly_chem_dollars  \\\n",
       "0          12   26            1.92  ...     38.9            1072000.0   \n",
       "1          12   19            1.92  ...     38.9            1072000.0   \n",
       "2          12   12            1.92  ...     38.9            1072000.0   \n",
       "3          12    5            1.92  ...     38.9            1072000.0   \n",
       "4          11   28            1.58  ...     51.7            1072000.0   \n",
       "...       ...  ...             ...  ...      ...                  ...   \n",
       "307016      1   29            3.90  ...     41.1              85000.0   \n",
       "307017      1   22            3.90  ...     41.1              85000.0   \n",
       "307018      1   15            3.90  ...     41.1              85000.0   \n",
       "307019      1    8            3.90  ...     41.1              85000.0   \n",
       "307020      1    1            3.90  ...     41.1              85000.0   \n",
       "\n",
       "        Chem_operations  Acres_operated  Operations  yearly_fert_dollars  \\\n",
       "0                 702.0        243753.0        1936            2967000.0   \n",
       "1                 702.0        243753.0        1936            2967000.0   \n",
       "2                 702.0        243753.0        1936            2967000.0   \n",
       "3                 702.0        243753.0        1936            2967000.0   \n",
       "4                 702.0        243753.0        1936            2967000.0   \n",
       "...                 ...             ...         ...                  ...   \n",
       "307016             70.0         15018.0         348             135000.0   \n",
       "307017             70.0         15018.0         348             135000.0   \n",
       "307018             70.0         15018.0         348             135000.0   \n",
       "307019             70.0         15018.0         348             135000.0   \n",
       "307020             70.0         15018.0         348             135000.0   \n",
       "\n",
       "        Fert_operations  yearly_conv_input_exp        Lat        Long  \n",
       "0                 798.0              4039000.0  36.337825  -94.256187  \n",
       "1                 798.0              4039000.0  36.337825  -94.256187  \n",
       "2                 798.0              4039000.0  36.337825  -94.256187  \n",
       "3                 798.0              4039000.0  36.337825  -94.256187  \n",
       "4                 798.0              4039000.0  36.337825  -94.256187  \n",
       "...                 ...                    ...        ...         ...  \n",
       "307016             72.0               220000.0  48.158436 -122.670500  \n",
       "307017             72.0               220000.0  48.158436 -122.670500  \n",
       "307018             72.0               220000.0  48.158436 -122.670500  \n",
       "307019             72.0               220000.0  48.158436 -122.670500  \n",
       "307020             72.0               220000.0  48.158436 -122.670500  \n",
       "\n",
       "[307021 rows x 22 columns]"
      ]
     },
     "execution_count": 4,
     "metadata": {},
     "output_type": "execute_result"
    }
   ],
   "source": [
    "#reordering the dataframe\n",
    "soil = soil[['Date', 'FIPS', 'County', 'State', 'total_Sq_Mi', 'in_drought', 'Year',\n",
    "       'Month', 'Day', 'monthly_precip', 'mintemp', 'maxtemp', 'avgtemp',\n",
    "       'yearly_chem_dollars', 'Chem_operations', 'Acres_operated',\n",
    "       'Operations', 'yearly_fert_dollars', 'Fert_operations', 'yearly_conv_input_exp', 'Lat', 'Long']]\n",
    "soil"
   ]
  },
  {
   "cell_type": "code",
   "execution_count": 5,
   "id": "22f00286",
   "metadata": {},
   "outputs": [
    {
     "data": {
      "text/html": [
       "<div>\n",
       "<style scoped>\n",
       "    .dataframe tbody tr th:only-of-type {\n",
       "        vertical-align: middle;\n",
       "    }\n",
       "\n",
       "    .dataframe tbody tr th {\n",
       "        vertical-align: top;\n",
       "    }\n",
       "\n",
       "    .dataframe thead th {\n",
       "        text-align: right;\n",
       "    }\n",
       "</style>\n",
       "<table border=\"1\" class=\"dataframe\">\n",
       "  <thead>\n",
       "    <tr style=\"text-align: right;\">\n",
       "      <th></th>\n",
       "      <th>FIPS</th>\n",
       "      <th>total_Sq_Mi</th>\n",
       "      <th>in_drought</th>\n",
       "      <th>Year</th>\n",
       "      <th>Month</th>\n",
       "      <th>Day</th>\n",
       "      <th>monthly_precip</th>\n",
       "      <th>mintemp</th>\n",
       "      <th>maxtemp</th>\n",
       "      <th>avgtemp</th>\n",
       "      <th>yearly_chem_dollars</th>\n",
       "      <th>Chem_operations</th>\n",
       "      <th>Acres_operated</th>\n",
       "      <th>Operations</th>\n",
       "      <th>yearly_fert_dollars</th>\n",
       "      <th>Fert_operations</th>\n",
       "      <th>yearly_conv_input_exp</th>\n",
       "      <th>Lat</th>\n",
       "      <th>Long</th>\n",
       "    </tr>\n",
       "  </thead>\n",
       "  <tbody>\n",
       "    <tr>\n",
       "      <th>count</th>\n",
       "      <td>307021.000000</td>\n",
       "      <td>307021.000000</td>\n",
       "      <td>307021.000000</td>\n",
       "      <td>307021.000000</td>\n",
       "      <td>307021.000000</td>\n",
       "      <td>307021.000000</td>\n",
       "      <td>307021.000000</td>\n",
       "      <td>307021.000000</td>\n",
       "      <td>307021.000000</td>\n",
       "      <td>307021.000000</td>\n",
       "      <td>3.070210e+05</td>\n",
       "      <td>307021.000000</td>\n",
       "      <td>3.070210e+05</td>\n",
       "      <td>307021.000000</td>\n",
       "      <td>3.070210e+05</td>\n",
       "      <td>307021.000000</td>\n",
       "      <td>3.070210e+05</td>\n",
       "      <td>307021.000000</td>\n",
       "      <td>307021.000000</td>\n",
       "    </tr>\n",
       "    <tr>\n",
       "      <th>mean</th>\n",
       "      <td>27137.590197</td>\n",
       "      <td>819.490093</td>\n",
       "      <td>0.469737</td>\n",
       "      <td>2009.464115</td>\n",
       "      <td>6.468900</td>\n",
       "      <td>15.880383</td>\n",
       "      <td>2.968160</td>\n",
       "      <td>45.830625</td>\n",
       "      <td>68.392837</td>\n",
       "      <td>57.115290</td>\n",
       "      <td>5.885705e+06</td>\n",
       "      <td>360.308324</td>\n",
       "      <td>3.014529e+05</td>\n",
       "      <td>754.089300</td>\n",
       "      <td>8.760502e+06</td>\n",
       "      <td>406.364910</td>\n",
       "      <td>1.464621e+07</td>\n",
       "      <td>37.478721</td>\n",
       "      <td>-93.774843</td>\n",
       "    </tr>\n",
       "    <tr>\n",
       "      <th>std</th>\n",
       "      <td>15228.438813</td>\n",
       "      <td>900.642853</td>\n",
       "      <td>0.499084</td>\n",
       "      <td>5.600753</td>\n",
       "      <td>3.461377</td>\n",
       "      <td>8.801931</td>\n",
       "      <td>2.542033</td>\n",
       "      <td>17.077727</td>\n",
       "      <td>18.468828</td>\n",
       "      <td>17.664211</td>\n",
       "      <td>1.368996e+07</td>\n",
       "      <td>328.872289</td>\n",
       "      <td>2.791320e+05</td>\n",
       "      <td>609.302239</td>\n",
       "      <td>1.330175e+07</td>\n",
       "      <td>352.127376</td>\n",
       "      <td>2.634637e+07</td>\n",
       "      <td>5.092996</td>\n",
       "      <td>9.427255</td>\n",
       "    </tr>\n",
       "    <tr>\n",
       "      <th>min</th>\n",
       "      <td>5001.000000</td>\n",
       "      <td>46.720000</td>\n",
       "      <td>0.000000</td>\n",
       "      <td>2002.000000</td>\n",
       "      <td>1.000000</td>\n",
       "      <td>1.000000</td>\n",
       "      <td>0.000000</td>\n",
       "      <td>-8.500000</td>\n",
       "      <td>9.800000</td>\n",
       "      <td>0.700000</td>\n",
       "      <td>0.000000e+00</td>\n",
       "      <td>1.000000</td>\n",
       "      <td>7.000000e+00</td>\n",
       "      <td>3.000000</td>\n",
       "      <td>0.000000e+00</td>\n",
       "      <td>0.000000</td>\n",
       "      <td>1.000000e+03</td>\n",
       "      <td>25.601043</td>\n",
       "      <td>-123.980990</td>\n",
       "    </tr>\n",
       "    <tr>\n",
       "      <th>25%</th>\n",
       "      <td>17017.000000</td>\n",
       "      <td>454.360000</td>\n",
       "      <td>0.000000</td>\n",
       "      <td>2002.000000</td>\n",
       "      <td>4.000000</td>\n",
       "      <td>8.000000</td>\n",
       "      <td>1.160000</td>\n",
       "      <td>33.200000</td>\n",
       "      <td>55.700000</td>\n",
       "      <td>44.600000</td>\n",
       "      <td>6.380000e+05</td>\n",
       "      <td>145.000000</td>\n",
       "      <td>1.159300e+05</td>\n",
       "      <td>354.000000</td>\n",
       "      <td>1.375000e+06</td>\n",
       "      <td>171.000000</td>\n",
       "      <td>2.123000e+06</td>\n",
       "      <td>33.240660</td>\n",
       "      <td>-97.653997</td>\n",
       "    </tr>\n",
       "    <tr>\n",
       "      <th>50%</th>\n",
       "      <td>20165.000000</td>\n",
       "      <td>637.750000</td>\n",
       "      <td>0.000000</td>\n",
       "      <td>2007.000000</td>\n",
       "      <td>7.000000</td>\n",
       "      <td>16.000000</td>\n",
       "      <td>2.450000</td>\n",
       "      <td>47.100000</td>\n",
       "      <td>71.500000</td>\n",
       "      <td>59.300000</td>\n",
       "      <td>2.796000e+06</td>\n",
       "      <td>288.000000</td>\n",
       "      <td>2.538630e+05</td>\n",
       "      <td>619.000000</td>\n",
       "      <td>4.809000e+06</td>\n",
       "      <td>335.000000</td>\n",
       "      <td>7.631000e+06</td>\n",
       "      <td>38.021451</td>\n",
       "      <td>-93.242723</td>\n",
       "    </tr>\n",
       "    <tr>\n",
       "      <th>75%</th>\n",
       "      <td>37101.000000</td>\n",
       "      <td>902.350000</td>\n",
       "      <td>1.000000</td>\n",
       "      <td>2012.000000</td>\n",
       "      <td>10.000000</td>\n",
       "      <td>24.000000</td>\n",
       "      <td>4.120000</td>\n",
       "      <td>59.800000</td>\n",
       "      <td>83.700000</td>\n",
       "      <td>71.800000</td>\n",
       "      <td>7.074000e+06</td>\n",
       "      <td>487.000000</td>\n",
       "      <td>4.148870e+05</td>\n",
       "      <td>972.000000</td>\n",
       "      <td>1.170800e+07</td>\n",
       "      <td>551.000000</td>\n",
       "      <td>1.899100e+07</td>\n",
       "      <td>41.187925</td>\n",
       "      <td>-87.402172</td>\n",
       "    </tr>\n",
       "    <tr>\n",
       "      <th>max</th>\n",
       "      <td>55141.000000</td>\n",
       "      <td>20117.770000</td>\n",
       "      <td>1.000000</td>\n",
       "      <td>2017.000000</td>\n",
       "      <td>12.000000</td>\n",
       "      <td>31.000000</td>\n",
       "      <td>46.040000</td>\n",
       "      <td>82.800000</td>\n",
       "      <td>108.500000</td>\n",
       "      <td>95.700000</td>\n",
       "      <td>3.547430e+08</td>\n",
       "      <td>4935.000000</td>\n",
       "      <td>3.777285e+06</td>\n",
       "      <td>6687.000000</td>\n",
       "      <td>2.698370e+08</td>\n",
       "      <td>5184.000000</td>\n",
       "      <td>6.245800e+08</td>\n",
       "      <td>48.842653</td>\n",
       "      <td>-75.767536</td>\n",
       "    </tr>\n",
       "  </tbody>\n",
       "</table>\n",
       "</div>"
      ],
      "text/plain": [
       "                FIPS    total_Sq_Mi     in_drought           Year  \\\n",
       "count  307021.000000  307021.000000  307021.000000  307021.000000   \n",
       "mean    27137.590197     819.490093       0.469737    2009.464115   \n",
       "std     15228.438813     900.642853       0.499084       5.600753   \n",
       "min      5001.000000      46.720000       0.000000    2002.000000   \n",
       "25%     17017.000000     454.360000       0.000000    2002.000000   \n",
       "50%     20165.000000     637.750000       0.000000    2007.000000   \n",
       "75%     37101.000000     902.350000       1.000000    2012.000000   \n",
       "max     55141.000000   20117.770000       1.000000    2017.000000   \n",
       "\n",
       "               Month            Day  monthly_precip        mintemp  \\\n",
       "count  307021.000000  307021.000000   307021.000000  307021.000000   \n",
       "mean        6.468900      15.880383        2.968160      45.830625   \n",
       "std         3.461377       8.801931        2.542033      17.077727   \n",
       "min         1.000000       1.000000        0.000000      -8.500000   \n",
       "25%         4.000000       8.000000        1.160000      33.200000   \n",
       "50%         7.000000      16.000000        2.450000      47.100000   \n",
       "75%        10.000000      24.000000        4.120000      59.800000   \n",
       "max        12.000000      31.000000       46.040000      82.800000   \n",
       "\n",
       "             maxtemp        avgtemp  yearly_chem_dollars  Chem_operations  \\\n",
       "count  307021.000000  307021.000000         3.070210e+05    307021.000000   \n",
       "mean       68.392837      57.115290         5.885705e+06       360.308324   \n",
       "std        18.468828      17.664211         1.368996e+07       328.872289   \n",
       "min         9.800000       0.700000         0.000000e+00         1.000000   \n",
       "25%        55.700000      44.600000         6.380000e+05       145.000000   \n",
       "50%        71.500000      59.300000         2.796000e+06       288.000000   \n",
       "75%        83.700000      71.800000         7.074000e+06       487.000000   \n",
       "max       108.500000      95.700000         3.547430e+08      4935.000000   \n",
       "\n",
       "       Acres_operated     Operations  yearly_fert_dollars  Fert_operations  \\\n",
       "count    3.070210e+05  307021.000000         3.070210e+05    307021.000000   \n",
       "mean     3.014529e+05     754.089300         8.760502e+06       406.364910   \n",
       "std      2.791320e+05     609.302239         1.330175e+07       352.127376   \n",
       "min      7.000000e+00       3.000000         0.000000e+00         0.000000   \n",
       "25%      1.159300e+05     354.000000         1.375000e+06       171.000000   \n",
       "50%      2.538630e+05     619.000000         4.809000e+06       335.000000   \n",
       "75%      4.148870e+05     972.000000         1.170800e+07       551.000000   \n",
       "max      3.777285e+06    6687.000000         2.698370e+08      5184.000000   \n",
       "\n",
       "       yearly_conv_input_exp            Lat           Long  \n",
       "count           3.070210e+05  307021.000000  307021.000000  \n",
       "mean            1.464621e+07      37.478721     -93.774843  \n",
       "std             2.634637e+07       5.092996       9.427255  \n",
       "min             1.000000e+03      25.601043    -123.980990  \n",
       "25%             2.123000e+06      33.240660     -97.653997  \n",
       "50%             7.631000e+06      38.021451     -93.242723  \n",
       "75%             1.899100e+07      41.187925     -87.402172  \n",
       "max             6.245800e+08      48.842653     -75.767536  "
      ]
     },
     "execution_count": 5,
     "metadata": {},
     "output_type": "execute_result"
    }
   ],
   "source": [
    "#describe to check variance. \n",
    "soil.describe()"
   ]
  },
  {
   "cell_type": "code",
   "execution_count": 6,
   "id": "14ebf28c",
   "metadata": {},
   "outputs": [
    {
     "name": "stdout",
     "output_type": "stream",
     "text": [
      "The positive \"in drought\" classification makes up 47.0% of our target variable\n"
     ]
    }
   ],
   "source": [
    "#double checking the Target variable's ratio\n",
    "print(f'The positive \"in drought\" classification makes up {round(soil[\"in_drought\"].value_counts()[1]/(soil[\"in_drought\"].value_counts()[1]+soil[\"in_drought\"].value_counts()[0]),2)*100}% of our target variable')"
   ]
  },
  {
   "cell_type": "markdown",
   "id": "fec9e03b",
   "metadata": {},
   "source": [
    "We seem to have a great deal of variance in our data, so we will likely use the minmax scaler for the first pass with our logistic regression. We can move on to creating a dataframe with only the features we will use in modeling, removing:\n",
    "\n",
    "* Date\n",
    "* FIPS\n",
    "* State\n",
    "* County\n",
    "* mintemp\n",
    "* avgtemp\n",
    "* Chem_operations\n",
    "* Fert_operations\n",
    "* yearly_chem_dollars\n",
    "* yearly_fert_dollars\n",
    "\n",
    "We can label this 'soilmodel'. We will write this to a csv for safe keeping. From there we can work on setting up a full Train and test split for our data, and a Train and Validate split out of the full Train set."
   ]
  },
  {
   "cell_type": "code",
   "execution_count": 7,
   "id": "20889fdb",
   "metadata": {},
   "outputs": [
    {
     "data": {
      "text/html": [
       "<div>\n",
       "<style scoped>\n",
       "    .dataframe tbody tr th:only-of-type {\n",
       "        vertical-align: middle;\n",
       "    }\n",
       "\n",
       "    .dataframe tbody tr th {\n",
       "        vertical-align: top;\n",
       "    }\n",
       "\n",
       "    .dataframe thead th {\n",
       "        text-align: right;\n",
       "    }\n",
       "</style>\n",
       "<table border=\"1\" class=\"dataframe\">\n",
       "  <thead>\n",
       "    <tr style=\"text-align: right;\">\n",
       "      <th></th>\n",
       "      <th>total_Sq_Mi</th>\n",
       "      <th>in_drought</th>\n",
       "      <th>Year</th>\n",
       "      <th>Month</th>\n",
       "      <th>Day</th>\n",
       "      <th>monthly_precip</th>\n",
       "      <th>maxtemp</th>\n",
       "      <th>Acres_operated</th>\n",
       "      <th>Operations</th>\n",
       "      <th>yearly_conv_input_exp</th>\n",
       "      <th>Lat</th>\n",
       "      <th>Long</th>\n",
       "    </tr>\n",
       "  </thead>\n",
       "  <tbody>\n",
       "    <tr>\n",
       "      <th>0</th>\n",
       "      <td>873.97</td>\n",
       "      <td>1</td>\n",
       "      <td>2017</td>\n",
       "      <td>12</td>\n",
       "      <td>26</td>\n",
       "      <td>1.92</td>\n",
       "      <td>48.9</td>\n",
       "      <td>243753.0</td>\n",
       "      <td>1936</td>\n",
       "      <td>4039000.0</td>\n",
       "      <td>36.337825</td>\n",
       "      <td>-94.256187</td>\n",
       "    </tr>\n",
       "    <tr>\n",
       "      <th>1</th>\n",
       "      <td>873.97</td>\n",
       "      <td>1</td>\n",
       "      <td>2017</td>\n",
       "      <td>12</td>\n",
       "      <td>19</td>\n",
       "      <td>1.92</td>\n",
       "      <td>48.9</td>\n",
       "      <td>243753.0</td>\n",
       "      <td>1936</td>\n",
       "      <td>4039000.0</td>\n",
       "      <td>36.337825</td>\n",
       "      <td>-94.256187</td>\n",
       "    </tr>\n",
       "    <tr>\n",
       "      <th>2</th>\n",
       "      <td>873.97</td>\n",
       "      <td>1</td>\n",
       "      <td>2017</td>\n",
       "      <td>12</td>\n",
       "      <td>12</td>\n",
       "      <td>1.92</td>\n",
       "      <td>48.9</td>\n",
       "      <td>243753.0</td>\n",
       "      <td>1936</td>\n",
       "      <td>4039000.0</td>\n",
       "      <td>36.337825</td>\n",
       "      <td>-94.256187</td>\n",
       "    </tr>\n",
       "    <tr>\n",
       "      <th>3</th>\n",
       "      <td>873.97</td>\n",
       "      <td>1</td>\n",
       "      <td>2017</td>\n",
       "      <td>12</td>\n",
       "      <td>5</td>\n",
       "      <td>1.92</td>\n",
       "      <td>48.9</td>\n",
       "      <td>243753.0</td>\n",
       "      <td>1936</td>\n",
       "      <td>4039000.0</td>\n",
       "      <td>36.337825</td>\n",
       "      <td>-94.256187</td>\n",
       "    </tr>\n",
       "    <tr>\n",
       "      <th>4</th>\n",
       "      <td>873.97</td>\n",
       "      <td>1</td>\n",
       "      <td>2017</td>\n",
       "      <td>11</td>\n",
       "      <td>28</td>\n",
       "      <td>1.58</td>\n",
       "      <td>62.7</td>\n",
       "      <td>243753.0</td>\n",
       "      <td>1936</td>\n",
       "      <td>4039000.0</td>\n",
       "      <td>36.337825</td>\n",
       "      <td>-94.256187</td>\n",
       "    </tr>\n",
       "    <tr>\n",
       "      <th>...</th>\n",
       "      <td>...</td>\n",
       "      <td>...</td>\n",
       "      <td>...</td>\n",
       "      <td>...</td>\n",
       "      <td>...</td>\n",
       "      <td>...</td>\n",
       "      <td>...</td>\n",
       "      <td>...</td>\n",
       "      <td>...</td>\n",
       "      <td>...</td>\n",
       "      <td>...</td>\n",
       "      <td>...</td>\n",
       "    </tr>\n",
       "    <tr>\n",
       "      <th>307016</th>\n",
       "      <td>213.97</td>\n",
       "      <td>0</td>\n",
       "      <td>2002</td>\n",
       "      <td>1</td>\n",
       "      <td>29</td>\n",
       "      <td>3.90</td>\n",
       "      <td>45.6</td>\n",
       "      <td>15018.0</td>\n",
       "      <td>348</td>\n",
       "      <td>220000.0</td>\n",
       "      <td>48.158436</td>\n",
       "      <td>-122.670500</td>\n",
       "    </tr>\n",
       "    <tr>\n",
       "      <th>307017</th>\n",
       "      <td>213.97</td>\n",
       "      <td>0</td>\n",
       "      <td>2002</td>\n",
       "      <td>1</td>\n",
       "      <td>22</td>\n",
       "      <td>3.90</td>\n",
       "      <td>45.6</td>\n",
       "      <td>15018.0</td>\n",
       "      <td>348</td>\n",
       "      <td>220000.0</td>\n",
       "      <td>48.158436</td>\n",
       "      <td>-122.670500</td>\n",
       "    </tr>\n",
       "    <tr>\n",
       "      <th>307018</th>\n",
       "      <td>213.97</td>\n",
       "      <td>0</td>\n",
       "      <td>2002</td>\n",
       "      <td>1</td>\n",
       "      <td>15</td>\n",
       "      <td>3.90</td>\n",
       "      <td>45.6</td>\n",
       "      <td>15018.0</td>\n",
       "      <td>348</td>\n",
       "      <td>220000.0</td>\n",
       "      <td>48.158436</td>\n",
       "      <td>-122.670500</td>\n",
       "    </tr>\n",
       "    <tr>\n",
       "      <th>307019</th>\n",
       "      <td>213.97</td>\n",
       "      <td>0</td>\n",
       "      <td>2002</td>\n",
       "      <td>1</td>\n",
       "      <td>8</td>\n",
       "      <td>3.90</td>\n",
       "      <td>45.6</td>\n",
       "      <td>15018.0</td>\n",
       "      <td>348</td>\n",
       "      <td>220000.0</td>\n",
       "      <td>48.158436</td>\n",
       "      <td>-122.670500</td>\n",
       "    </tr>\n",
       "    <tr>\n",
       "      <th>307020</th>\n",
       "      <td>213.97</td>\n",
       "      <td>0</td>\n",
       "      <td>2002</td>\n",
       "      <td>1</td>\n",
       "      <td>1</td>\n",
       "      <td>3.90</td>\n",
       "      <td>45.6</td>\n",
       "      <td>15018.0</td>\n",
       "      <td>348</td>\n",
       "      <td>220000.0</td>\n",
       "      <td>48.158436</td>\n",
       "      <td>-122.670500</td>\n",
       "    </tr>\n",
       "  </tbody>\n",
       "</table>\n",
       "<p>307021 rows × 12 columns</p>\n",
       "</div>"
      ],
      "text/plain": [
       "        total_Sq_Mi  in_drought  Year  Month  Day  monthly_precip  maxtemp  \\\n",
       "0            873.97           1  2017     12   26            1.92     48.9   \n",
       "1            873.97           1  2017     12   19            1.92     48.9   \n",
       "2            873.97           1  2017     12   12            1.92     48.9   \n",
       "3            873.97           1  2017     12    5            1.92     48.9   \n",
       "4            873.97           1  2017     11   28            1.58     62.7   \n",
       "...             ...         ...   ...    ...  ...             ...      ...   \n",
       "307016       213.97           0  2002      1   29            3.90     45.6   \n",
       "307017       213.97           0  2002      1   22            3.90     45.6   \n",
       "307018       213.97           0  2002      1   15            3.90     45.6   \n",
       "307019       213.97           0  2002      1    8            3.90     45.6   \n",
       "307020       213.97           0  2002      1    1            3.90     45.6   \n",
       "\n",
       "        Acres_operated  Operations  yearly_conv_input_exp        Lat  \\\n",
       "0             243753.0        1936              4039000.0  36.337825   \n",
       "1             243753.0        1936              4039000.0  36.337825   \n",
       "2             243753.0        1936              4039000.0  36.337825   \n",
       "3             243753.0        1936              4039000.0  36.337825   \n",
       "4             243753.0        1936              4039000.0  36.337825   \n",
       "...                ...         ...                    ...        ...   \n",
       "307016         15018.0         348               220000.0  48.158436   \n",
       "307017         15018.0         348               220000.0  48.158436   \n",
       "307018         15018.0         348               220000.0  48.158436   \n",
       "307019         15018.0         348               220000.0  48.158436   \n",
       "307020         15018.0         348               220000.0  48.158436   \n",
       "\n",
       "              Long  \n",
       "0       -94.256187  \n",
       "1       -94.256187  \n",
       "2       -94.256187  \n",
       "3       -94.256187  \n",
       "4       -94.256187  \n",
       "...            ...  \n",
       "307016 -122.670500  \n",
       "307017 -122.670500  \n",
       "307018 -122.670500  \n",
       "307019 -122.670500  \n",
       "307020 -122.670500  \n",
       "\n",
       "[307021 rows x 12 columns]"
      ]
     },
     "execution_count": 7,
     "metadata": {},
     "output_type": "execute_result"
    }
   ],
   "source": [
    "#checking the drop first\n",
    "soil.drop(columns=(['Date',\n",
    "                    'FIPS',\n",
    "                    'State',\n",
    "                    'County',\n",
    "                    'mintemp',\n",
    "                    'avgtemp',\n",
    "                    'Chem_operations',\n",
    "                    'Fert_operations',\n",
    "                    'yearly_chem_dollars',\n",
    "                    'yearly_fert_dollars']))"
   ]
  },
  {
   "cell_type": "code",
   "execution_count": 8,
   "id": "0889f6cb",
   "metadata": {},
   "outputs": [],
   "source": [
    "#and creating a new dataframe for modeling\n",
    "soilmodel = soil.drop(columns=(['Date',\n",
    "                                'FIPS',\n",
    "                                'State',\n",
    "                                'County',\n",
    "                                'mintemp',\n",
    "                                'avgtemp',\n",
    "                                'Chem_operations',\n",
    "                                'Fert_operations',\n",
    "                                'yearly_chem_dollars',\n",
    "                                'yearly_fert_dollars']))"
   ]
  },
  {
   "cell_type": "code",
   "execution_count": 9,
   "id": "9a2134e7",
   "metadata": {},
   "outputs": [
    {
     "name": "stdout",
     "output_type": "stream",
     "text": [
      "<class 'pandas.core.frame.DataFrame'>\n",
      "RangeIndex: 307021 entries, 0 to 307020\n",
      "Data columns (total 12 columns):\n",
      " #   Column                 Non-Null Count   Dtype  \n",
      "---  ------                 --------------   -----  \n",
      " 0   total_Sq_Mi            307021 non-null  float64\n",
      " 1   in_drought             307021 non-null  int64  \n",
      " 2   Year                   307021 non-null  int64  \n",
      " 3   Month                  307021 non-null  int64  \n",
      " 4   Day                    307021 non-null  int64  \n",
      " 5   monthly_precip         307021 non-null  float64\n",
      " 6   maxtemp                307021 non-null  float64\n",
      " 7   Acres_operated         307021 non-null  float64\n",
      " 8   Operations             307021 non-null  int64  \n",
      " 9   yearly_conv_input_exp  307021 non-null  float64\n",
      " 10  Lat                    307021 non-null  float64\n",
      " 11  Long                   307021 non-null  float64\n",
      "dtypes: float64(7), int64(5)\n",
      "memory usage: 28.1 MB\n"
     ]
    }
   ],
   "source": [
    "#taking a look\n",
    "soilmodel.info()"
   ]
  },
  {
   "cell_type": "code",
   "execution_count": 10,
   "id": "771ef66b",
   "metadata": {},
   "outputs": [],
   "source": [
    "#writing to CSV and then commenting out the write function\n",
    "soilmodel.to_csv('soilmodel.csv', index=False)"
   ]
  },
  {
   "cell_type": "markdown",
   "id": "dc8c326c",
   "metadata": {},
   "source": [
    "## Train, Validate, and Test sets\n",
    "Our target variable is well balanced with 47% of our observations indicating 'in drought' and 53% indicating 'not in drought', so we have some freedom to use a larger portion of our data for our fulltrain set, to be divided up into train and validate sets. We will use the stratify parameter in the train_test_split function to ensure that our target variable's ratio of 47% to 53% is carried out in each split we make. \n",
    "\n",
    "We can split our data as follows:\n",
    "\n",
    "**20%** of the total data in the **test** sets:\n",
    " * X_test - All of the columns *except* **in_drought** in our \"soilmodel\" dataframe\n",
    " * y_test - The **in_drought** column in our \"soilmodel\" dataframe\n",
    "\n",
    "**80%** of the total data in the **fulltrain** sets:\n",
    " * X_fulltrain - All of the columns *except* **in_drought** in our \"soilmodel\" dataframe\n",
    " * y_fulltrain - The **in_drought** column in our \"soilmodel\" dataframe\n",
    "\n",
    "    A split within the **fulltrain** data will give us a train and validate set to use for hyperparameter adjustments. We will split the **fulltrain** data **75% by 25%** leaving us with:\n",
    "        \n",
    "    **20%** of the total data in the **validate** sets:\n",
    "      * X_validate - One third of the data from all of the columns *except* **in_drought** in our \"soilmodel\" dataframe \n",
    "      * y_validate - One third of the data from only the **in_drought** column in our \"soilmodel\" dataframe\n",
    "    \n",
    "    **60%** of the total data in the **train** sets:\n",
    "      * X_train - Two thirds of the data from all of the columns *except* **in_drought** in our \"soilmodel\" dataframe\n",
    "      * y_train - Two thirds of the data from only the **in_drought** column in our \"soilmodel\" dataframe"
   ]
  },
  {
   "cell_type": "code",
   "execution_count": 11,
   "id": "0121bcde",
   "metadata": {},
   "outputs": [
    {
     "name": "stdout",
     "output_type": "stream",
     "text": [
      " The number of rows and columns in X is (307021, 11)\n",
      " The number of rows in y is (307021,)\n"
     ]
    }
   ],
   "source": [
    "#setting up our x and y\n",
    "X = soilmodel.drop(columns=['in_drought'])\n",
    "y = soilmodel['in_drought']\n",
    "\n",
    "print(f' The number of rows and columns in X is {X.shape}')\n",
    "print(f' The number of rows in y is {y.shape}')"
   ]
  },
  {
   "cell_type": "code",
   "execution_count": 12,
   "id": "d7e1413f",
   "metadata": {},
   "outputs": [
    {
     "name": "stdout",
     "output_type": "stream",
     "text": [
      " The number of rows and columns in X_fulltrain is (245616, 11)\n",
      " The number of rows and columns in y_fulltrain is (245616,)\n",
      "\n",
      " The number of rows and columns in X_test is (61405, 11)\n",
      " The number of rows and columns in y_test is (61405,)\n"
     ]
    }
   ],
   "source": [
    "#setting up the first split to make our fulltrain and test sets, 80/20 with stratify\n",
    "X_fulltrain, X_test, y_fulltrain, y_test = train_test_split(\n",
    "    X, y, stratify = y, test_size=0.2, random_state=1337)\n",
    "\n",
    "print(f' The number of rows and columns in X_fulltrain is {X_fulltrain.shape}')\n",
    "print(f' The number of rows and columns in y_fulltrain is {y_fulltrain.shape}\\n')\n",
    "\n",
    "print(f' The number of rows and columns in X_test is {X_test.shape}')\n",
    "print(f' The number of rows and columns in y_test is {y_test.shape}')"
   ]
  },
  {
   "cell_type": "code",
   "execution_count": 13,
   "id": "85647d8d",
   "metadata": {},
   "outputs": [
    {
     "name": "stdout",
     "output_type": "stream",
     "text": [
      "y_test ratio: 0.46973373503786336\n",
      "y_fulltrain ratio: 0.4697373135300632\n"
     ]
    }
   ],
   "source": [
    "#checking the ratios\n",
    "print(f'y_test ratio: {y_test.value_counts()[1]/(y_test.value_counts()[1]+y_test.value_counts()[0])}')\n",
    "print(f'y_fulltrain ratio: {y_fulltrain.value_counts()[1]/(y_fulltrain.value_counts()[1]+y_fulltrain.value_counts()[0])}')"
   ]
  },
  {
   "cell_type": "code",
   "execution_count": 14,
   "id": "338eadaa",
   "metadata": {},
   "outputs": [
    {
     "name": "stdout",
     "output_type": "stream",
     "text": [
      " The number of rows and columns in X_train is (184212, 11)\n",
      " The number of rows and columns in y_train is (184212,)\n",
      "\n",
      " The number of rows and columns in X_validate is (61404, 11)\n",
      " The number of rows and columns in y_validate is (61404,)\n"
     ]
    }
   ],
   "source": [
    "#setting up the second split to make our train and validate sets, 80/20 with stratify\n",
    "X_train, X_validate, y_train, y_validate = train_test_split(\n",
    "    X_fulltrain, y_fulltrain, stratify = y_fulltrain, test_size=0.25, random_state=1337)\n",
    "\n",
    "print(f' The number of rows and columns in X_train is {X_train.shape}')\n",
    "print(f' The number of rows and columns in y_train is {y_train.shape}\\n')\n",
    "\n",
    "print(f' The number of rows and columns in X_validate is {X_validate.shape}')\n",
    "print(f' The number of rows and columns in y_validate is {y_validate.shape}')"
   ]
  },
  {
   "cell_type": "code",
   "execution_count": 15,
   "id": "c69bf9ac",
   "metadata": {},
   "outputs": [
    {
     "name": "stdout",
     "output_type": "stream",
     "text": [
      "y_validate ratio: 0.46974138492606343\n",
      "y_train ratio: 0.4697359563980631\n"
     ]
    }
   ],
   "source": [
    "#checking the ratios\n",
    "print(f'y_validate ratio: {y_validate.value_counts()[1]/(y_validate.value_counts()[1]+y_validate.value_counts()[0])}')\n",
    "print(f'y_train ratio: {y_train.value_counts()[1]/(y_train.value_counts()[1]+y_train.value_counts()[0])}')"
   ]
  },
  {
   "cell_type": "markdown",
   "id": "7d74f1ae",
   "metadata": {},
   "source": [
    "## Logistic Regression\n",
    "---\n",
    "Our first model will be a Logistic Regression. The goal with this type of model is use our X variables relationship with the Target, **in_drought**. Logistic Regression should give us a nice baseline accuracy that we will try to improve on, both by tuning the Logistic Regression model itself and with our later models. \n",
    "\n",
    "We will improve our performance by scaling our data ahead of fitting it to the model. We observed a great deal of variation in the ranges seen in our data--scaling will capture the variance in our data without giving more weight to features that have larger absolute ranges. We can set up a pipeline to combine our scale, transform, and fit steps for the train and validate datasets."
   ]
  },
  {
   "cell_type": "code",
   "execution_count": 16,
   "id": "15806dd6",
   "metadata": {},
   "outputs": [
    {
     "name": "stdout",
     "output_type": "stream",
     "text": [
      "Train Score: 0.6356589147286822\n",
      "validate Score: 0.6352843462966582\n"
     ]
    }
   ],
   "source": [
    "#calling the pipeline function in\n",
    "from sklearn.pipeline import Pipeline\n",
    "\n",
    "#instantiate the pipeline\n",
    "estimators = [('normalise', MinMaxScaler()),\n",
    "              ('logreg', LogisticRegression(C=1, random_state=1337))]#using a C of 1\n",
    "\n",
    "logregpipe = Pipeline(estimators)\n",
    "\n",
    "#fit the pipeline\n",
    "logregpipe.fit(X_train, y_train)\n",
    "\n",
    "#output the accuracy of the train and validate scores\n",
    "print(f'Train Score: {logregpipe.score(X_train, y_train)}')\n",
    "print(f'validate Score: {logregpipe.score(X_validate, y_validate)}')"
   ]
  },
  {
   "cell_type": "markdown",
   "id": "8beb9312",
   "metadata": {},
   "source": [
    "It worked!\n",
    "\n",
    "Just not very well. The model seems to be well fit, considering the train and validate scores are almost equal. A score of 63.5 is a modest improvement on pure chance--16.5% improvement on a 47% chance of guessing a county-week observation being  in drought.\n",
    "\n",
    "We have room to optimize the logistic regression and a good place to start is with the hyperparameter \"C\". In a Logistic Regression, C will determine the amount of regularization. C by default is equal to 1 and we will test variations by setting C to different powers of 10: .001, .01, .1, 1, 10, 100, 1000"
   ]
  },
  {
   "cell_type": "code",
   "execution_count": 17,
   "id": "43e2f10a",
   "metadata": {},
   "outputs": [
    {
     "name": "stdout",
     "output_type": "stream",
     "text": [
      "Working on my model with a C of 1000....\r"
     ]
    }
   ],
   "source": [
    "#instantiate minmax scaler\n",
    "scaler = MinMaxScaler()\n",
    "scaler.fit(X_fulltrain)\n",
    "\n",
    "#transform the data with our scaler\n",
    "logitX_train = scaler.transform(X_train)\n",
    "logitX_validate = scaler.transform(X_validate)\n",
    "\n",
    "#fitting to different levels of C\n",
    "train_accs = []\n",
    "validate_accs = []\n",
    "C_list = [.001, .01, .1, 1, 10, 100, 1000]\n",
    "for i in C_list:\n",
    "    print(f\"Working on my model with a C of {i}...\", end=\"\\r\")\n",
    "    # 1. Instantiate \n",
    "    Optlogit_model = LogisticRegression(C=i, random_state=1337)\n",
    "\n",
    "    # 2. Fit (on the train set)\n",
    "    Optlogit_model.fit(logitX_train, y_train)\n",
    "\n",
    "    # 3. Score (on both sets)\n",
    "    train_score = Optlogit_model.score(logitX_train, y_train)\n",
    "    validate_score = Optlogit_model.score(logitX_validate, y_validate)\n",
    "    \n",
    "    # Add these to the lists\n",
    "    train_accs.append(train_score)\n",
    "    validate_accs.append(validate_score)"
   ]
  },
  {
   "cell_type": "code",
   "execution_count": 18,
   "id": "568046ea",
   "metadata": {
    "scrolled": false
   },
   "outputs": [
    {
     "data": {
      "image/png": "[encoded data removed]",
      "text/plain": [
       "<Figure size 720x504 with 1 Axes>"
      ]
     },
     "metadata": {
      "needs_background": "light"
     },
     "output_type": "display_data"
    }
   ],
   "source": [
    "#plotting the accuracy scores at different max depths\n",
    "plt.figure(figsize=(10,7))\n",
    "plt.plot(C_list, validate_accs, color=\"red\", label=\"validate\", marker='o')\n",
    "plt.plot(C_list, train_accs, color=\"blue\", label=\"train\", marker='o')\n",
    "plt.ylabel(\"Accuracy Score\")\n",
    "plt.xlabel(\"C values\")\n",
    "plt.xscale('log')\n",
    "plt.title(\"C Optimization\")\n",
    "plt.legend()\n",
    "plt.show()"
   ]
  },
  {
   "cell_type": "markdown",
   "id": "81dd2f08",
   "metadata": {},
   "source": [
    "The best option for a C value appear to be the default of 1. We can try running our model with the full training and test data - we'll need to access the coefficients for this model, so we won't be able to use a pipeline."
   ]
  },
  {
   "cell_type": "code",
   "execution_count": 19,
   "id": "879720ed",
   "metadata": {},
   "outputs": [
    {
     "name": "stdout",
     "output_type": "stream",
     "text": [
      "Train Score: 0.635280274900658\n",
      "Test Score: 0.6378959368129631\n"
     ]
    }
   ],
   "source": [
    "#using a C of 1\n",
    "#scaling the data\n",
    "#instantiate minmax scaler\n",
    "scaler = MinMaxScaler()\n",
    "scaler.fit(X_fulltrain)\n",
    "\n",
    "#transform the data with our scaler\n",
    "logitX_fulltrain = scaler.transform(X_fulltrain)\n",
    "logitX_test = scaler.transform(X_test)\n",
    "\n",
    "#instantiate the Logistic Regression with a random state and a C of 1\n",
    "logit_model_test = LogisticRegression(C=1, random_state=1337)\n",
    "\n",
    "#fit the model\n",
    "logit_model_test.fit(logitX_fulltrain, y_fulltrain)\n",
    "\n",
    "#output the accuracy of the train and validate scores\n",
    "print(f'Train Score: {logit_model_test.score(logitX_fulltrain, y_fulltrain)}')\n",
    "print(f'Test Score: {logit_model_test.score(logitX_test, y_test)}')"
   ]
  },
  {
   "cell_type": "markdown",
   "id": "2c71f38a",
   "metadata": {},
   "source": [
    "We are not seeing much improvement from the first model but that is primarily because our tuning did not change the hyperparameters we were using. The results are at least consistent, albeit with lackluster accuracy. Before moving on to a Decision Tree model we can take a look at the coefficients that were used in the model and see what factor had more weight in our model."
   ]
  },
  {
   "cell_type": "code",
   "execution_count": 20,
   "id": "6f3c4db4",
   "metadata": {},
   "outputs": [
    {
     "data": {
      "text/plain": [
       "array([ 3.11639644, -0.20787261,  0.4954668 ,  0.01939834, -9.3288497 ,\n",
       "        1.11759682, -1.75053777, -1.99277881,  3.63981069, -1.16972124,\n",
       "        0.44185759])"
      ]
     },
     "execution_count": 20,
     "metadata": {},
     "output_type": "execute_result"
    }
   ],
   "source": [
    "#calling the coefficient values\n",
    "logit_model_test.coef_[0]"
   ]
  },
  {
   "cell_type": "code",
   "execution_count": 21,
   "id": "33b8bfcb",
   "metadata": {},
   "outputs": [
    {
     "data": {
      "text/plain": [
       "array([ 3.11639644, -0.20787261,  0.4954668 ,  0.01939834, -9.3288497 ,\n",
       "        1.11759682, -1.75053777, -1.99277881,  3.63981069, -1.16972124,\n",
       "        0.44185759])"
      ]
     },
     "execution_count": 21,
     "metadata": {},
     "output_type": "execute_result"
    }
   ],
   "source": [
    "#converting the nested list in an array to a list\n",
    "coef_list = logit_model_test.coef_[0]\n",
    "coef_list"
   ]
  },
  {
   "cell_type": "code",
   "execution_count": 22,
   "id": "2aaa3ca8",
   "metadata": {},
   "outputs": [
    {
     "data": {
      "text/html": [
       "<div>\n",
       "<style scoped>\n",
       "    .dataframe tbody tr th:only-of-type {\n",
       "        vertical-align: middle;\n",
       "    }\n",
       "\n",
       "    .dataframe tbody tr th {\n",
       "        vertical-align: top;\n",
       "    }\n",
       "\n",
       "    .dataframe thead th {\n",
       "        text-align: right;\n",
       "    }\n",
       "</style>\n",
       "<table border=\"1\" class=\"dataframe\">\n",
       "  <thead>\n",
       "    <tr style=\"text-align: right;\">\n",
       "      <th></th>\n",
       "      <th>Feature</th>\n",
       "      <th>LogReg Coefficients</th>\n",
       "    </tr>\n",
       "  </thead>\n",
       "  <tbody>\n",
       "    <tr>\n",
       "      <th>0</th>\n",
       "      <td>yearly_conv_input_exp</td>\n",
       "      <td>3.639811</td>\n",
       "    </tr>\n",
       "    <tr>\n",
       "      <th>1</th>\n",
       "      <td>total_Sq_Mi</td>\n",
       "      <td>3.116396</td>\n",
       "    </tr>\n",
       "    <tr>\n",
       "      <th>2</th>\n",
       "      <td>maxtemp</td>\n",
       "      <td>1.117597</td>\n",
       "    </tr>\n",
       "    <tr>\n",
       "      <th>3</th>\n",
       "      <td>Month</td>\n",
       "      <td>0.495467</td>\n",
       "    </tr>\n",
       "    <tr>\n",
       "      <th>4</th>\n",
       "      <td>Long</td>\n",
       "      <td>0.441858</td>\n",
       "    </tr>\n",
       "    <tr>\n",
       "      <th>5</th>\n",
       "      <td>Day</td>\n",
       "      <td>0.019398</td>\n",
       "    </tr>\n",
       "    <tr>\n",
       "      <th>6</th>\n",
       "      <td>Year</td>\n",
       "      <td>-0.207873</td>\n",
       "    </tr>\n",
       "    <tr>\n",
       "      <th>7</th>\n",
       "      <td>Lat</td>\n",
       "      <td>-1.169721</td>\n",
       "    </tr>\n",
       "    <tr>\n",
       "      <th>8</th>\n",
       "      <td>Acres_operated</td>\n",
       "      <td>-1.750538</td>\n",
       "    </tr>\n",
       "    <tr>\n",
       "      <th>9</th>\n",
       "      <td>Operations</td>\n",
       "      <td>-1.992779</td>\n",
       "    </tr>\n",
       "    <tr>\n",
       "      <th>10</th>\n",
       "      <td>monthly_precip</td>\n",
       "      <td>-9.328850</td>\n",
       "    </tr>\n",
       "  </tbody>\n",
       "</table>\n",
       "</div>"
      ],
      "text/plain": [
       "                  Feature  LogReg Coefficients\n",
       "0   yearly_conv_input_exp             3.639811\n",
       "1             total_Sq_Mi             3.116396\n",
       "2                 maxtemp             1.117597\n",
       "3                   Month             0.495467\n",
       "4                    Long             0.441858\n",
       "5                     Day             0.019398\n",
       "6                    Year            -0.207873\n",
       "7                     Lat            -1.169721\n",
       "8          Acres_operated            -1.750538\n",
       "9              Operations            -1.992779\n",
       "10         monthly_precip            -9.328850"
      ]
     },
     "execution_count": 22,
     "metadata": {},
     "output_type": "execute_result"
    }
   ],
   "source": [
    "#setting up a dataframe\n",
    "coef_df = pd.DataFrame(\n",
    "    {\"Feature\":X_test.columns,\n",
    "     \"LogReg Coefficients\": coef_list})\n",
    "\n",
    "coef_df.sort_values(by=\"LogReg Coefficients\", ascending=False, ignore_index=True)"
   ]
  },
  {
   "cell_type": "code",
   "execution_count": 23,
   "id": "65f0a7df",
   "metadata": {},
   "outputs": [
    {
     "data": {
      "image/png": "[encoded data removed]",
      "text/plain": [
       "<Figure size 1080x360 with 1 Axes>"
      ]
     },
     "metadata": {
      "needs_background": "light"
     },
     "output_type": "display_data"
    }
   ],
   "source": [
    "#graphing our coeffs\n",
    "plt.figure(figsize=(15,5))\n",
    "positive_coefs = coef_df[coef_df['LogReg Coefficients'] >=0]\n",
    "negative_coefs = coef_df[coef_df['LogReg Coefficients'] < 0]\n",
    "plt.barh(positive_coefs['Feature'], positive_coefs['LogReg Coefficients'])\n",
    "plt.barh(negative_coefs['Feature'], negative_coefs['LogReg Coefficients'])\n",
    "plt.title('Logistic Regression Feature Coefficients')\n",
    "plt.xlabel('Coefficient')\n",
    "plt.ylabel('Feature')\n",
    "sns.despine()\n",
    "plt.show()"
   ]
  },
  {
   "cell_type": "markdown",
   "id": "8ec784d7",
   "metadata": {},
   "source": [
    "The strongest coefficient for predicting drought is monthly precipitation, with a negative relationship indication that as precipitation decreases the odds of the model predicting drought are increased. Second is a positive relationship between conventional agricultural input expenses and a positive prediction of drought. This matches our initial assumptions that there is a relationship between the presence of conventional agriculture and drought.\n",
    "\n",
    "The coefficients encouragingly match our initial assumptions and some intuition regarding drought--unfortunately the accuracy score of the model is not much better than pure chance. We would predict drought conditions for a county-week 47% of the time and improving on that guess by 16% with our Logistic Regression is not ideal.\n",
    "\n",
    "We can move on to our Decision Tree modeling."
   ]
  },
  {
   "cell_type": "markdown",
   "id": "52dc9511",
   "metadata": {},
   "source": [
    "## Decision Tree\n",
    "---\n",
    "Our Logistic Regression model accuracy was a bit disappointing, but it appears to score very consistently when we applied it to our test data. We will likely see the *opposite* effect in our decision tree model--they tend to overfit and generalize poorly.\n",
    "\n",
    "Decision Trees iteratively split our data in two, maximizing the separation between classes with each split. Decision trees are not affected by the different scales of variance in the data and do not need scaling.\n",
    "\n",
    "We will run the decision tree model with default setting initially, with no limit to the depth of the tree and no minimum number of samples for it to group together."
   ]
  },
  {
   "cell_type": "code",
   "execution_count": 24,
   "id": "25393a35",
   "metadata": {},
   "outputs": [
    {
     "name": "stdout",
     "output_type": "stream",
     "text": [
      "Train Score: 1.0\n",
      "Validate Score: 0.94953097518077\n"
     ]
    }
   ],
   "source": [
    "#instantiate\n",
    "DT_model = DecisionTreeClassifier()\n",
    "\n",
    "#fit\n",
    "DT_model.fit(X_train, y_train)\n",
    "\n",
    "#score\n",
    "print(f'Train Score: {DT_model.score(X_train, y_train)}')\n",
    "print(f'Validate Score: {DT_model.score(X_validate, y_validate)}')"
   ]
  },
  {
   "cell_type": "markdown",
   "id": "76466a81",
   "metadata": {},
   "source": [
    "It also worked! Lets see how deep the tree went, though..."
   ]
  },
  {
   "cell_type": "code",
   "execution_count": 25,
   "id": "100edbb3",
   "metadata": {},
   "outputs": [
    {
     "data": {
      "text/plain": [
       "31"
      ]
     },
     "execution_count": 25,
     "metadata": {},
     "output_type": "execute_result"
    }
   ],
   "source": [
    "DT_model.get_depth()"
   ]
  },
  {
   "cell_type": "markdown",
   "id": "45dde0f3",
   "metadata": {},
   "source": [
    "A depth of 31 is likely to overfit our data and generalize poorly to new data. We can rerun the model with a depth of 5, per the suggetions from the Scikit-Learn documentation, and see how the performance changes."
   ]
  },
  {
   "cell_type": "code",
   "execution_count": 26,
   "id": "3eb6c0dc",
   "metadata": {},
   "outputs": [
    {
     "name": "stdout",
     "output_type": "stream",
     "text": [
      "Train Score: 0.7209085184461381\n",
      "Validate Score: 0.7221190801902156\n"
     ]
    }
   ],
   "source": [
    "#instantiate 2nd try with a max depth of 5\n",
    "DT_model2 = DecisionTreeClassifier(max_depth=5)\n",
    "\n",
    "#fit\n",
    "DT_model2.fit(X_train, y_train)\n",
    "\n",
    "#score\n",
    "print(f'Train Score: {DT_model2.score(X_train, y_train)}')\n",
    "print(f'Validate Score: {DT_model2.score(X_validate, y_validate)}')"
   ]
  },
  {
   "cell_type": "markdown",
   "id": "5c325e3d",
   "metadata": {},
   "source": [
    "The second fit with a depth of 5 is lower than our initial attempt but still a 25% improvement on a pure chance guess-- **72% versus 47%.**\n",
    "\n",
    "Our first model is overfit--a training accuracy of 100% with a validation of 95% is not a huge gap, but we may be able to trade having a slightly lower accuracy on the training set in exchange for a pair of train and validate scores that are within a percentage point or two of each other.\n",
    "\n",
    "Knowing that the max_depth topped out at 31 with the default values, we can try to dial in a depth below 31 that is not as overfit."
   ]
  },
  {
   "cell_type": "code",
   "execution_count": 27,
   "id": "2e037d5e",
   "metadata": {},
   "outputs": [
    {
     "name": "stdout",
     "output_type": "stream",
     "text": [
      "Working on my model with 31 depth...\r"
     ]
    }
   ],
   "source": [
    "#fitting depths up to 31\n",
    "train_accs = []\n",
    "validate_accs = []\n",
    "depth = range(1, 32)\n",
    "for i in depth:\n",
    "    print(f\"Working on my model with {i} depth...\", end=\"\\r\")\n",
    "    # 1. Instantiate \n",
    "    DT_optdepth = DecisionTreeClassifier(max_depth=i)\n",
    "\n",
    "    # 2. Fit (on the train set)\n",
    "    DT_optdepth.fit(X_train, y_train)\n",
    "\n",
    "    # 3. Score (on both sets)\n",
    "    train_score = DT_optdepth.score(X_train, y_train)\n",
    "    validate_score = DT_optdepth.score(X_validate, y_validate)\n",
    "    \n",
    "    # Add these to the lists\n",
    "    train_accs.append(train_score)\n",
    "    validate_accs.append(validate_score)"
   ]
  },
  {
   "cell_type": "code",
   "execution_count": 28,
   "id": "892149c8",
   "metadata": {
    "scrolled": true
   },
   "outputs": [
    {
     "data": {
      "image/png": "[encoded data removed]",
      "text/plain": [
       "<Figure size 720x504 with 1 Axes>"
      ]
     },
     "metadata": {
      "needs_background": "light"
     },
     "output_type": "display_data"
    }
   ],
   "source": [
    "#plotting the accuracy scores at different max depths\n",
    "plt.figure(figsize=(10,7))\n",
    "plt.plot(depth, validate_accs, color=\"red\", label=\"validate\", marker='o')\n",
    "plt.plot(depth, train_accs, color=\"blue\", label=\"train\", marker='o')\n",
    "plt.ylabel(\"Accuracy Score\")\n",
    "plt.xlabel(\"Max Depth\")\n",
    "plt.title(\"Max Depth Optimization\")\n",
    "plt.legend()\n",
    "plt.show()"
   ]
  },
  {
   "cell_type": "markdown",
   "id": "5ea7449b",
   "metadata": {},
   "source": [
    "We see the scores diverging around a depth of 9 or 10 and the gap widens consistently until both scores level off around a depth of 20 or 21. We can slice the train and validation scores at these depths and replot them."
   ]
  },
  {
   "cell_type": "code",
   "execution_count": 29,
   "id": "e2ce2958",
   "metadata": {
    "scrolled": true
   },
   "outputs": [],
   "source": [
    "#setting up list slices that should let us see the depths between 9 and 21\n",
    "validate_accs_zoomed = validate_accs[8:22]\n",
    "train_accs_zoomed = train_accs[8:22]\n",
    "depth_zoomed = depth[8:22]"
   ]
  },
  {
   "cell_type": "code",
   "execution_count": 30,
   "id": "7e14e8b6",
   "metadata": {
    "scrolled": false
   },
   "outputs": [
    {
     "data": {
      "image/png": "[encoded data removed]",
      "text/plain": [
       "<Figure size 720x504 with 1 Axes>"
      ]
     },
     "metadata": {
      "needs_background": "light"
     },
     "output_type": "display_data"
    }
   ],
   "source": [
    "#plot the graph, but focused on the 'elbow' we are seeing in our scores\n",
    "plt.figure(figsize=(10,7))\n",
    "plt.plot(depth_zoomed, validate_accs_zoomed, color=\"red\", label=\"validate\", marker='o')\n",
    "plt.plot(depth_zoomed, train_accs_zoomed, color=\"blue\", label=\"train\", marker='o')\n",
    "plt.ylabel(\"Accuracy Score\")\n",
    "plt.xlabel(\"Max Depth\")\n",
    "plt.title(\"Max Depth Optimization - Depths of 9-21\")\n",
    "plt.legend()\n",
    "plt.show()"
   ]
  },
  {
   "cell_type": "markdown",
   "id": "df1f60ac",
   "metadata": {},
   "source": [
    "Even after zooming in on the 'elbow' we are seeing in the full graph, there is still not a visually clear bend to point to. In the interest of generalizability, we can err toward a smaller max depth and slightly lower accuracy--a depth of 14 seems appropriate."
   ]
  },
  {
   "cell_type": "code",
   "execution_count": 31,
   "id": "169bbdc3",
   "metadata": {},
   "outputs": [
    {
     "name": "stdout",
     "output_type": "stream",
     "text": [
      "With a depth of 14, the train score is 92.0%\n",
      "and the validate score is 90.0%.\n"
     ]
    }
   ],
   "source": [
    "print(f'With a depth of 14, the train score is {round(train_accs[13],2)*100}%\\n\\\n",
    "and the validate score is {round(validate_accs[13],2)*100}%.')"
   ]
  },
  {
   "cell_type": "markdown",
   "id": "d015dddd",
   "metadata": {},
   "source": [
    "Having a 92% on train and 90% on validate is well fit and hopefully our depth of 14 will generalize well on our test data. Lets run our test data with a depth of 14 on the fulltrain and test sets."
   ]
  },
  {
   "cell_type": "code",
   "execution_count": 32,
   "id": "d04c6bfc",
   "metadata": {},
   "outputs": [
    {
     "name": "stdout",
     "output_type": "stream",
     "text": [
      "Full Train Score: 0.9186616507067944\n",
      "Test Score: 0.9017181011318297\n"
     ]
    }
   ],
   "source": [
    "#instantiate\n",
    "DT_modeltest = DecisionTreeClassifier(max_depth=14)\n",
    "\n",
    "#fit\n",
    "DT_modeltest.fit(X_fulltrain, y_fulltrain)\n",
    "\n",
    "#score\n",
    "print(f'Full Train Score: {DT_modeltest.score(X_fulltrain, y_fulltrain)}')\n",
    "print(f'Test Score: {DT_modeltest.score(X_test, y_test)}')"
   ]
  },
  {
   "cell_type": "markdown",
   "id": "615ce938",
   "metadata": {},
   "source": [
    "Our model generalized well on our test data, outputting scores that when rounded are equal to our optimized train and validate scores. We can get some additional information on our model's performance by checking the accuracy in a confusion matrix and looking at the Precision and Recall of the model."
   ]
  },
  {
   "cell_type": "code",
   "execution_count": 33,
   "id": "86d86f01",
   "metadata": {},
   "outputs": [
    {
     "data": {
      "text/plain": [
       "array([[30161,  2400],\n",
       "       [ 3635, 25209]], dtype=int64)"
      ]
     },
     "execution_count": 33,
     "metadata": {},
     "output_type": "execute_result"
    }
   ],
   "source": [
    "from sklearn.metrics import plot_confusion_matrix\n",
    "from sklearn.metrics import confusion_matrix\n",
    "\n",
    "# Get class predictions\n",
    "y_pred = DT_modeltest.predict(X_test)\n",
    "\n",
    "# Generate a basic confusion matrix\n",
    "cf_matrix = confusion_matrix(y_test, y_pred)\n",
    "cf_matrix"
   ]
  },
  {
   "cell_type": "code",
   "execution_count": 34,
   "id": "f03d1ede",
   "metadata": {},
   "outputs": [
    {
     "data": {
      "image/png": "[encoded data removed]",
      "text/plain": [
       "<Figure size 432x288 with 2 Axes>"
      ]
     },
     "metadata": {
      "needs_background": "light"
     },
     "output_type": "display_data"
    }
   ],
   "source": [
    "#plotting the confusion matrix\n",
    "plot_confusion_matrix(DT_modeltest, X_test, y_test, cmap='Reds');"
   ]
  },
  {
   "cell_type": "code",
   "execution_count": 35,
   "id": "1b320272",
   "metadata": {},
   "outputs": [],
   "source": [
    "#true negatives, the top left at 30172\n",
    "tn = cf_matrix[0,0]\n",
    "\n",
    "#false negatives, bottom left at 3626\n",
    "fn = cf_matrix[1,0]\n",
    "\n",
    "#true positives, bottom right at 25218\n",
    "tp = cf_matrix[1,1]\n",
    "\n",
    "#false positives, top right at 2389\n",
    "fp = cf_matrix[0,1]"
   ]
  },
  {
   "cell_type": "code",
   "execution_count": 36,
   "id": "803fb39e",
   "metadata": {},
   "outputs": [
    {
     "name": "stdout",
     "output_type": "stream",
     "text": [
      "Our model's Precision is 25209/27609, or 91.31%\n"
     ]
    }
   ],
   "source": [
    "#getting our precision score\n",
    "precision = tp/(tp+fp)\n",
    "\n",
    "print(f\"Our model's Precision is {tp}/{tp+fp}, or {round(precision*100, 2)}%\")"
   ]
  },
  {
   "cell_type": "code",
   "execution_count": 37,
   "id": "cca7b6c6",
   "metadata": {},
   "outputs": [
    {
     "name": "stdout",
     "output_type": "stream",
     "text": [
      "Our model's Recall is 25209/28844, or 87.4%\n"
     ]
    }
   ],
   "source": [
    "#getting our recall score\n",
    "precision = tp/(tp+fn)\n",
    "\n",
    "print(f\"Our model's Recall is {tp}/{tp+fn}, or {round(precision*100, 2)}%\")"
   ]
  },
  {
   "cell_type": "markdown",
   "id": "5e895d62",
   "metadata": {},
   "source": [
    "The final Decision Tree model is overall scoring well, with our Accuracy, Precision, and Recall scores all near 90%.\n",
    "\n",
    "To summarize, our model **accurately classifies instances where the observed county is in a week of drought 90% of the time.** The model **identifies 87% of the weeks** that are **in fact in drought** as a county-week in drought. Finally, our model is precise--**91% of the county-weeks that it predicted as being in drought are in fact in drought.\n",
    "\n",
    "Having our accuracy, precision, and recall around 90% is a good place to start, especially considering the relative simplicity of the model. We will test at least one other type of model-- a Random Forest ensemble model-- but first we can take a look at the underlying decisions that our Decision Tree made in its classification.\n",
    "\n",
    "We can check the tree plot's initial splits to see what features had a strong impact in dividing the data."
   ]
  },
  {
   "cell_type": "code",
   "execution_count": 38,
   "id": "c72419a7",
   "metadata": {},
   "outputs": [],
   "source": [
    "#importing plot_tree\n",
    "from sklearn.tree import plot_tree"
   ]
  },
  {
   "cell_type": "code",
   "execution_count": 39,
   "id": "87440eda",
   "metadata": {},
   "outputs": [
    {
     "data": {
      "image/png": "[encoded data removed]",
      "text/plain": [
       "<Figure size 1728x1296 with 1 Axes>"
      ]
     },
     "metadata": {
      "needs_background": "light"
     },
     "output_type": "display_data"
    }
   ],
   "source": [
    "#Plotting the first, second, and third splits in the data\n",
    "fig, ax = plt.subplots(figsize=(24,18))\n",
    "\n",
    "plot_tree(DT_modeltest,\n",
    "          max_depth=3,\n",
    "          feature_names=X_test.columns,\n",
    "          rounded=True,\n",
    "          impurity=False,\n",
    "          filled=True,\n",
    "          ax=ax,\n",
    "          fontsize=12);"
   ]
  },
  {
   "cell_type": "markdown",
   "id": "33058dd7",
   "metadata": {},
   "source": [
    "The splits that move to the left of a leaf node are the observations that are 'True' for that leaf node. To break down the way the leaf nodes branched, we can interpret the leaf nodes for the first few levels of the decision tree. For each node, we can not what direction the classifications were *mostly* sent in.\n",
    "\n",
    "   * **First level and node:** samples with longitudes less than or equal to -84.919. *\"in drought\" to the left, \"not in drought\" to the right*\n",
    "   \n",
    "       -This longitude is roughly the western border of the state Georgia. All of the counties to the east of this would be in most of Georgia, most of florida, and all of North Carolina. These three states mostly split to the right. The remaining 12 states and some of Georgia and Florida split to the left.\n",
    "---\n",
    "   \n",
    "   * **Second level, left node:** samples with monthly precipitation of less than 2.255 inches of rain. *\"in drought\" to the left, \"not in drought\" to the right*\n",
    "   \n",
    "        -This could theoretically include any county-week observations roughly west of Georgia. County-week observations with less than or equal monthly precipitation went left, county-week observations with more precipitation went right.\n",
    "        \n",
    "        \n",
    "   * **Second level, right node:** samples in years less than or equal to 2014.5. *\"not in drought\" to the left, \"in drought\" to the right*\n",
    "       \n",
    "        -This would be 2002, 2007, and 2012 splitting to the left and 2017 splitting to the right, and would be counties in Florida, Georgia, and North Carolina\n",
    "---\n",
    "   \n",
    "   * **Third level, far left node:** samples in years less than or equal to 2014.5. *\"not in drought\" to the left, \"in drought\" to the right*\n",
    "   \n",
    "        -This split was used previously, so likely has some significance. Again, this would be 2002, 2007, and 2012 splitting to the left and 2017 splitting to the right, and would include mainly counties *outside of* Florida, Georgia, and North Carolina\n",
    "        \n",
    "        \n",
    "   * **Third level, middle left node:** samples in months less than or equal to 6.5 (so January through June). *\"in drought\" to the left, \"not in drought\" to the right*\n",
    "   \n",
    "        -This is still for the county-weeks that are largely outside Georgia, Florida, and North Carolina. The observations from the first half of the year in this subset tend to have more drought.\n",
    "        \n",
    "        \n",
    "   * **Third level, middle right node:** samples with latitudes less than 30.807 (roughly south of the Georgia/Florida border). *\"in drought\" to the left, \"not in drought\" to the right*\n",
    "   \n",
    "        -This split seems to mainly be in place to separate Georgia and Florida along this branch.\n",
    "   \n",
    "   \n",
    "   * **Third level, far right:** samples in months less than or equal to 5.5 (so January through May). *\"not in drought\" to the left, \"in drought\" to the right*\n",
    "    \n",
    "       -These samples are still generally Georgia, Florida, and North Carolina and the months *after* May had more drought.\n",
    "---\n",
    "\n",
    "   * **Fourth level, general observations:**\n",
    "   Year and Latitude both appear twice in the left-side nodes, Month appears once on the right half and otherwise the remaining splits are based on the maximum temperature. These may be smaller divisions in a relative sense, but Year, Latitude and maximum temperature \n",
    "---\n",
    "\n",
    "In general, our data is being split early on with geographic and year data. This hints at differences between years or times of year, and geographic location. We can move on to set up a Random Forest, but the background in these initial splits sheds some light on the most importance factors influencing our \"in drought\" condition.\n",
    "\n",
    "Unfortunately, Conventional Agriculture inputs-- our combined Chemical and Fertilizer input expenses-- is not making an appearance in any of these early splits. \n",
    "\n",
    "One piece that does not match expectations is that Georgia was initially included in the 3 states that had more observations of \"not in drought\". From our EDA, we know that Georgia had the highest rate of drought out of all 15 states."
   ]
  },
  {
   "cell_type": "markdown",
   "id": "c280dc99",
   "metadata": {},
   "source": [
    "## Random Forest\n",
    "---\n",
    "To build off of our Decision Tree model, we can set up a Random Forest ensemble model.\n",
    "A Random Forest model is, essentially, a collection of Decision Trees that are each given a portion of the total training data. These Decision trees will split the observations into node like usual. Once all of the trees have hit their maximum depth their predictions are averaged.\n",
    "\n",
    "We will start with the default set-up for our first RF model and use our train and validate sets. Then we can try some basic optimization and go from there."
   ]
  },
  {
   "cell_type": "code",
   "execution_count": 40,
   "id": "070cecb0",
   "metadata": {},
   "outputs": [
    {
     "name": "stdout",
     "output_type": "stream",
     "text": [
      "Train Score: 0.9999945714719997\n",
      "Validate Score: 0.9548075043971077\n"
     ]
    }
   ],
   "source": [
    "from sklearn.ensemble import RandomForestClassifier\n",
    "#running with the default set up:\n",
    "# no limit to the max depth and 100 estimators (\"Trees\")\n",
    "#instantiate\n",
    "RF_model = RandomForestClassifier()\n",
    "\n",
    "#fit\n",
    "RF_model.fit(X_train, y_train)\n",
    "\n",
    "#score\n",
    "print(f'Train Score: {RF_model.score(X_train, y_train)}')\n",
    "print(f'Validate Score: {RF_model.score(X_validate, y_validate)}')"
   ]
  },
  {
   "cell_type": "markdown",
   "id": "ae69dde7",
   "metadata": {},
   "source": [
    "This model is likely overfit - the same risk of overfitting that we have with a Decision Tree still applies for a Random forest. We can check the hyperparameters that were used in the model, but we are not able to see the max depth that was used as *there could be a different depth for each of the 100 \"trees\" in the model*. Similar to the optimization we performed for our Decision Tree, we can iterate through different numbers of estimators and see how our train and validate accuracies change with the hyperparameter."
   ]
  },
  {
   "cell_type": "code",
   "execution_count": 41,
   "id": "05210da4",
   "metadata": {
    "scrolled": true
   },
   "outputs": [
    {
     "data": {
      "text/plain": [
       "{'bootstrap': True,\n",
       " 'ccp_alpha': 0.0,\n",
       " 'class_weight': None,\n",
       " 'criterion': 'gini',\n",
       " 'max_depth': None,\n",
       " 'max_features': 'auto',\n",
       " 'max_leaf_nodes': None,\n",
       " 'max_samples': None,\n",
       " 'min_impurity_decrease': 0.0,\n",
       " 'min_impurity_split': None,\n",
       " 'min_samples_leaf': 1,\n",
       " 'min_samples_split': 2,\n",
       " 'min_weight_fraction_leaf': 0.0,\n",
       " 'n_estimators': 100,\n",
       " 'n_jobs': None,\n",
       " 'oob_score': False,\n",
       " 'random_state': None,\n",
       " 'verbose': 0,\n",
       " 'warm_start': False}"
      ]
     },
     "execution_count": 41,
     "metadata": {},
     "output_type": "execute_result"
    }
   ],
   "source": [
    "#checking the parameters used in the first pass with the RF model\n",
    "RF_model.get_params()"
   ]
  },
  {
   "cell_type": "markdown",
   "id": "b1fe3109",
   "metadata": {},
   "source": [
    "We know that using 100 estimators resulted in a highly accurate (and most certainly highly overfit...) model. We can work our way up to 100 estimators, or \"trees\", and then graph the scores of those iterations. We will start with 5 estimators and increase by 5 unitl we hit 100."
   ]
  },
  {
   "cell_type": "code",
   "execution_count": 42,
   "id": "7312672d",
   "metadata": {},
   "outputs": [
    {
     "name": "stdout",
     "output_type": "stream",
     "text": [
      "Working on my model with 100 estimators...\r"
     ]
    }
   ],
   "source": [
    "#fitting estimators up to 100\n",
    "RF_train_accs = []\n",
    "RF_validate_accs = []\n",
    "estimators = list(range(5, 101, 5))\n",
    "for i in estimators:\n",
    "    print(f\"Working on my model with {i} estimators...\", end=\"\\r\")\n",
    "    # 1. Instantiate \n",
    "    RF_opt_est = RandomForestClassifier(n_estimators=i)\n",
    "\n",
    "    # 2. Fit (on the train set)\n",
    "    RF_opt_est.fit(X_train, y_train)\n",
    "\n",
    "    # 3. Score (on both sets)\n",
    "    RFtrain_score = RF_opt_est.score(X_train, y_train)\n",
    "    RFvalidate_score = RF_opt_est.score(X_validate, y_validate)\n",
    "    \n",
    "    # Add these to the lists\n",
    "    RF_train_accs.append(RFtrain_score)\n",
    "    RF_validate_accs.append(RFvalidate_score)"
   ]
  },
  {
   "cell_type": "code",
   "execution_count": 43,
   "id": "86ee96f4",
   "metadata": {
    "scrolled": false
   },
   "outputs": [
    {
     "data": {
      "image/png": "[encoded data removed]",
      "text/plain": [
       "<Figure size 720x504 with 1 Axes>"
      ]
     },
     "metadata": {
      "needs_background": "light"
     },
     "output_type": "display_data"
    }
   ],
   "source": [
    "#plotting the accuracy scores for different numbers of estimators\n",
    "plt.figure(figsize=(10,7))\n",
    "plt.plot(estimators, RF_validate_accs, color=\"red\", label=\"validate\", marker='o')\n",
    "plt.plot(estimators, RF_train_accs, color=\"blue\", label=\"train\", marker='o')\n",
    "plt.ylabel(\"Accuracy Score\")\n",
    "plt.xlabel(\"Estimators\")\n",
    "plt.title(\"Estimator Optimization\")\n",
    "plt.legend()\n",
    "plt.show()"
   ]
  },
  {
   "cell_type": "markdown",
   "id": "b83a5314",
   "metadata": {},
   "source": [
    "All of our Random Forest scores are high, but luckily we have a clear \"elbow\" in the validate scores at 15 estimators. The ~100% accuracy for the training set indicates that the model is probably overfit, but the consistently high validation scores indicate that it may still generalize to our test data. We can check the exact accuracy score for this train and validate pair."
   ]
  },
  {
   "cell_type": "code",
   "execution_count": 44,
   "id": "846aeb07",
   "metadata": {},
   "outputs": [
    {
     "name": "stdout",
     "output_type": "stream",
     "text": [
      "With 15 estimators, the train score is 100.0%\n",
      "and the validate score is 95.0%.\n"
     ]
    }
   ],
   "source": [
    "print(f'With 15 estimators, the train score is {round(RF_train_accs[2],2)*100}%\\n\\\n",
    "and the validate score is {round(RF_validate_accs[2],2)*100}%.')"
   ]
  },
  {
   "cell_type": "markdown",
   "id": "a118adc1",
   "metadata": {},
   "source": [
    "Similar to our single decision tree, we can vary the maximum depth of the tree. Hopefully we will see a clear bend in the scores based on the depth--as is, 100% test accuracy and 95% validate accuracy seems at risk of overfitting. We don't know what the max depth is for our Random Forest Models, so we can use a broader range of depths in our testing, from 1 to 40 in case the depths exceed our single tree's default. We can use 15 estimators in these iterations."
   ]
  },
  {
   "cell_type": "code",
   "execution_count": 45,
   "id": "9160960d",
   "metadata": {},
   "outputs": [
    {
     "name": "stdout",
     "output_type": "stream",
     "text": [
      "Working on my model with 40 depth...\r"
     ]
    }
   ],
   "source": [
    "#fitting depths up to 40, setting the n_estimators to 15\n",
    "train_accs = []\n",
    "validate_accs = []\n",
    "depth = range(1, 41)\n",
    "for i in depth:\n",
    "    print(f\"Working on my model with {i} depth...\", end=\"\\r\")\n",
    "    # 1. Instantiate \n",
    "    RF_optdepth = RandomForestClassifier(max_depth=i, n_estimators=15)\n",
    "\n",
    "    # 2. Fit (on the train set)\n",
    "    RF_optdepth.fit(X_train, y_train)\n",
    "\n",
    "    # 3. Score (on both sets)\n",
    "    train_score = RF_optdepth.score(X_train, y_train)\n",
    "    validate_score = RF_optdepth.score(X_validate, y_validate)\n",
    "    \n",
    "    # Add these to the lists\n",
    "    train_accs.append(train_score)\n",
    "    validate_accs.append(validate_score)"
   ]
  },
  {
   "cell_type": "code",
   "execution_count": 46,
   "id": "362474af",
   "metadata": {
    "scrolled": false
   },
   "outputs": [
    {
     "data": {
      "image/png": "[encoded data removed]",
      "text/plain": [
       "<Figure size 720x504 with 1 Axes>"
      ]
     },
     "metadata": {
      "needs_background": "light"
     },
     "output_type": "display_data"
    }
   ],
   "source": [
    "#plotting the accuracy scores at different max depths\n",
    "plt.figure(figsize=(10,7))\n",
    "plt.plot(depth, validate_accs, color=\"red\", label=\"validate\", marker='o')\n",
    "plt.plot(depth, train_accs, color=\"blue\", label=\"train\", marker='o')\n",
    "plt.ylabel(\"Accuracy Score\")\n",
    "plt.xlabel(\"Max Depth\")\n",
    "plt.title(\"Random Forest Max Depth Optimization\")\n",
    "plt.legend()\n",
    "plt.show()"
   ]
  },
  {
   "cell_type": "markdown",
   "id": "8f60016a",
   "metadata": {},
   "source": [
    "The accuracy scores climb in tandem and start to diverge at depths between 15 and 20. We can \"zoom in\" again in this area and see if an elbow becomes clear."
   ]
  },
  {
   "cell_type": "code",
   "execution_count": 47,
   "id": "722c934d",
   "metadata": {
    "scrolled": true
   },
   "outputs": [],
   "source": [
    "#setting up list slices that should let us see the depths between 13 and 22\n",
    "validate_accs_zoomed = validate_accs[13:23]\n",
    "train_accs_zoomed = train_accs[13:23]\n",
    "depth_zoomed = depth[13:23]"
   ]
  },
  {
   "cell_type": "code",
   "execution_count": 48,
   "id": "fbeadb16",
   "metadata": {
    "scrolled": false
   },
   "outputs": [
    {
     "data": {
      "image/png": "[encoded data removed]",
      "text/plain": [
       "<Figure size 720x504 with 1 Axes>"
      ]
     },
     "metadata": {
      "needs_background": "light"
     },
     "output_type": "display_data"
    }
   ],
   "source": [
    "#plot the graph, but focused on the 'elbow' we are seeing in our scores\n",
    "plt.figure(figsize=(10,7))\n",
    "plt.plot(depth_zoomed, validate_accs_zoomed, color=\"red\", label=\"validate\", marker='o')\n",
    "plt.plot(depth_zoomed, train_accs_zoomed, color=\"blue\", label=\"train\", marker='o')\n",
    "plt.ylabel(\"Accuracy Score\")\n",
    "plt.xlabel(\"Max Depth\")\n",
    "plt.title(\"Max Depth Optimization - Random Forest - Depths of 13 to 22\")\n",
    "plt.legend()\n",
    "plt.show()"
   ]
  },
  {
   "cell_type": "markdown",
   "id": "9b65ce7e",
   "metadata": {},
   "source": [
    "Like we saw when plotting our decision tree depths, there is not an obvious bend to dial in on. 16 appears to be the point where the validate accuracy is growing at a higher rate while still keeping up with the train accuracy."
   ]
  },
  {
   "cell_type": "code",
   "execution_count": 49,
   "id": "f20f4c18",
   "metadata": {},
   "outputs": [
    {
     "name": "stdout",
     "output_type": "stream",
     "text": [
      "With a depth of 16, the train score is 97.0%\n",
      "and the validate score is 93.0%.\n"
     ]
    }
   ],
   "source": [
    "print(f'With a depth of 16, the train score is {round(train_accs[15],2)*100}%\\n\\\n",
    "and the validate score is {round(validate_accs[15],2)*100}%.')"
   ]
  },
  {
   "cell_type": "markdown",
   "id": "dd293e9c",
   "metadata": {},
   "source": [
    "We have tuned our model to use a depth of 16 and 15 estimators, we can model using out test data and interpret our results."
   ]
  },
  {
   "cell_type": "code",
   "execution_count": 50,
   "id": "254fab41",
   "metadata": {},
   "outputs": [
    {
     "name": "stdout",
     "output_type": "stream",
     "text": [
      "Train Score: 0.9657717738258094\n",
      "Validate Score: 0.9392557609315202\n"
     ]
    }
   ],
   "source": [
    "#using our optimized n_estimators of 15 and a max_depth of 16 \n",
    "#for a final run with the full training and the test data\n",
    "#instantiate\n",
    "OptRF_model = RandomForestClassifier(max_depth=16, n_estimators=15)\n",
    "\n",
    "#fit\n",
    "OptRF_model.fit(X_fulltrain, y_fulltrain)\n",
    "\n",
    "#score\n",
    "print(f'Train Score: {OptRF_model.score(X_fulltrain, y_fulltrain)}')\n",
    "print(f'Validate Score: {OptRF_model.score(X_test, y_test)}')"
   ]
  },
  {
   "cell_type": "markdown",
   "id": "21abff31",
   "metadata": {},
   "source": [
    "Our optimized model generalized well to our test data and delivered similar scores as our training and validation sets. We can check our results with another confusion matrix and see how our Recall and Precision compare to the Decision Tree's scores."
   ]
  },
  {
   "cell_type": "code",
   "execution_count": 51,
   "id": "b4a5ef4b",
   "metadata": {},
   "outputs": [
    {
     "data": {
      "text/plain": [
       "array([[31259,  1302],\n",
       "       [ 2428, 26416]], dtype=int64)"
      ]
     },
     "execution_count": 51,
     "metadata": {},
     "output_type": "execute_result"
    }
   ],
   "source": [
    "# Get class predictions\n",
    "y_pred = OptRF_model.predict(X_test)\n",
    "\n",
    "# Generate a basic confusion matrix\n",
    "cf_matrix = confusion_matrix(y_test, y_pred)\n",
    "cf_matrix"
   ]
  },
  {
   "cell_type": "code",
   "execution_count": 52,
   "id": "7e6f1d47",
   "metadata": {},
   "outputs": [
    {
     "data": {
      "image/png": "[encoded data removed]",
      "text/plain": [
       "<Figure size 432x288 with 2 Axes>"
      ]
     },
     "metadata": {
      "needs_background": "light"
     },
     "output_type": "display_data"
    }
   ],
   "source": [
    "#plotting the confusion matrix\n",
    "plot_confusion_matrix(OptRF_model, X_test, y_test, cmap='Reds');"
   ]
  },
  {
   "cell_type": "code",
   "execution_count": 53,
   "id": "616bbf44",
   "metadata": {},
   "outputs": [],
   "source": [
    "#true negatives, the top left at 30172\n",
    "tn = cf_matrix[0,0]\n",
    "\n",
    "#false negatives, bottom left at 3626\n",
    "fn = cf_matrix[1,0]\n",
    "\n",
    "#true positives, bottom right at 25218\n",
    "tp = cf_matrix[1,1]\n",
    "\n",
    "#false positives, top right at 2389\n",
    "fp = cf_matrix[0,1]"
   ]
  },
  {
   "cell_type": "code",
   "execution_count": 54,
   "id": "e85a7fa2",
   "metadata": {},
   "outputs": [
    {
     "name": "stdout",
     "output_type": "stream",
     "text": [
      "Our model's Precision is 26416/27718, or 95.3%\n"
     ]
    }
   ],
   "source": [
    "#getting our precision score\n",
    "precision = tp/(tp+fp)\n",
    "\n",
    "print(f\"Our model's Precision is {tp}/{tp+fp}, or {round(precision*100, 2)}%\")"
   ]
  },
  {
   "cell_type": "code",
   "execution_count": 55,
   "id": "f4d619d1",
   "metadata": {},
   "outputs": [
    {
     "name": "stdout",
     "output_type": "stream",
     "text": [
      "Our model's Recall is 26416/28844, or 91.58%\n"
     ]
    }
   ],
   "source": [
    "#getting our recall score\n",
    "precision = tp/(tp+fn)\n",
    "\n",
    "print(f\"Our model's Recall is {tp}/{tp+fn}, or {round(precision*100, 2)}%\")"
   ]
  },
  {
   "cell_type": "markdown",
   "id": "d00ef882",
   "metadata": {},
   "source": [
    "Our Decision tree model set a high bar, but our Random Forest model was able to improve our results despite that. Our model's Accuracy, Precision, and Recall are all **over 91%**, a modest improvement on the Decision Tree.\n",
    "\n",
    "To summarize, the Random Forest model **accurately classifies instances where the observed county is in a week of drought 94% of the time.** \n",
    "\n",
    "The model **identifies- or recalls- 92% of the county-weeks** that are **in fact in drought** as a county-week in drought. Finally, our model is precise--**95% of the county-weeks that it predicted as being in drought are in fact in drought.\n",
    "\n",
    "Although we can't interpret a single tree of decisions for our random forest model, we *can* get a sense of the most important features by call the model's feature_importances_ to see how the features rank in their decision making utility."
   ]
  },
  {
   "cell_type": "code",
   "execution_count": 56,
   "id": "8dbc3a3c",
   "metadata": {
    "scrolled": true
   },
   "outputs": [
    {
     "data": {
      "text/html": [
       "<div>\n",
       "<style scoped>\n",
       "    .dataframe tbody tr th:only-of-type {\n",
       "        vertical-align: middle;\n",
       "    }\n",
       "\n",
       "    .dataframe tbody tr th {\n",
       "        vertical-align: top;\n",
       "    }\n",
       "\n",
       "    .dataframe thead th {\n",
       "        text-align: right;\n",
       "    }\n",
       "</style>\n",
       "<table border=\"1\" class=\"dataframe\">\n",
       "  <thead>\n",
       "    <tr style=\"text-align: right;\">\n",
       "      <th></th>\n",
       "      <th>Feature</th>\n",
       "      <th>Random Forest Importances</th>\n",
       "    </tr>\n",
       "  </thead>\n",
       "  <tbody>\n",
       "    <tr>\n",
       "      <th>0</th>\n",
       "      <td>Year</td>\n",
       "      <td>0.170939</td>\n",
       "    </tr>\n",
       "    <tr>\n",
       "      <th>1</th>\n",
       "      <td>Long</td>\n",
       "      <td>0.150021</td>\n",
       "    </tr>\n",
       "    <tr>\n",
       "      <th>2</th>\n",
       "      <td>Lat</td>\n",
       "      <td>0.131854</td>\n",
       "    </tr>\n",
       "    <tr>\n",
       "      <th>3</th>\n",
       "      <td>maxtemp</td>\n",
       "      <td>0.124456</td>\n",
       "    </tr>\n",
       "    <tr>\n",
       "      <th>4</th>\n",
       "      <td>Month</td>\n",
       "      <td>0.122044</td>\n",
       "    </tr>\n",
       "    <tr>\n",
       "      <th>5</th>\n",
       "      <td>monthly_precip</td>\n",
       "      <td>0.090916</td>\n",
       "    </tr>\n",
       "    <tr>\n",
       "      <th>6</th>\n",
       "      <td>yearly_conv_input_exp</td>\n",
       "      <td>0.045256</td>\n",
       "    </tr>\n",
       "    <tr>\n",
       "      <th>7</th>\n",
       "      <td>Acres_operated</td>\n",
       "      <td>0.044260</td>\n",
       "    </tr>\n",
       "    <tr>\n",
       "      <th>8</th>\n",
       "      <td>total_Sq_Mi</td>\n",
       "      <td>0.043011</td>\n",
       "    </tr>\n",
       "    <tr>\n",
       "      <th>9</th>\n",
       "      <td>Day</td>\n",
       "      <td>0.039617</td>\n",
       "    </tr>\n",
       "    <tr>\n",
       "      <th>10</th>\n",
       "      <td>Operations</td>\n",
       "      <td>0.037625</td>\n",
       "    </tr>\n",
       "  </tbody>\n",
       "</table>\n",
       "</div>"
      ],
      "text/plain": [
       "                  Feature  Random Forest Importances\n",
       "0                    Year                   0.170939\n",
       "1                    Long                   0.150021\n",
       "2                     Lat                   0.131854\n",
       "3                 maxtemp                   0.124456\n",
       "4                   Month                   0.122044\n",
       "5          monthly_precip                   0.090916\n",
       "6   yearly_conv_input_exp                   0.045256\n",
       "7          Acres_operated                   0.044260\n",
       "8             total_Sq_Mi                   0.043011\n",
       "9                     Day                   0.039617\n",
       "10             Operations                   0.037625"
      ]
     },
     "execution_count": 56,
     "metadata": {},
     "output_type": "execute_result"
    }
   ],
   "source": [
    "#checking the feature importances for the Random Forest\n",
    "feature_df = pd.DataFrame(\n",
    "    {\"Feature\":X_test.columns,\n",
    "     \"Random Forest Importances\": OptRF_model.feature_importances_})\n",
    "\n",
    "feature_df.sort_values(by='Random Forest Importances', ascending=False, ignore_index=True)"
   ]
  },
  {
   "cell_type": "markdown",
   "id": "a9eb0b52",
   "metadata": {},
   "source": [
    "The initial branches in many of our Random Forest's trees may be fairly similar to our Decision Tree. \n",
    "\n",
    "**Year and Longitude are the top two features at 16% and 15% respectively.** Latitude, Month, and Max Temperature were similar in their importance at 12%, roughly tied for third. Monthly Precipitation has an imortance of 9%, and every other feature has less than a 5% share of the decision-importance.\n",
    "\n",
    "Our Random Forest model, like the Decision Tree, is primarily using geography, years, and seasonality to predict if the county-week observations are in drought or not in drought. Weather patterns are secondary, with agricultural data as a more distant determiner of drought or lack thereof.\n",
    "\n",
    "We can circle back on the Decision Tree plot and see if we can pick out the Conventional Agriculture input expenses feature a bit deeper into the tree plot."
   ]
  },
  {
   "cell_type": "code",
   "execution_count": 57,
   "id": "c11fbe41",
   "metadata": {
    "scrolled": true
   },
   "outputs": [
    {
     "data": {
      "image/png": "[encoded data removed]",
      "text/plain": [
       "<Figure size 1728x1296 with 1 Axes>"
      ]
     },
     "metadata": {
      "needs_background": "light"
     },
     "output_type": "display_data"
    }
   ],
   "source": [
    "#trying a depth of four to spot our yearly_conv_input_exp\n",
    "fig, ax = plt.subplots(figsize=(24,18))\n",
    "\n",
    "plot_tree(DT_modeltest,\n",
    "          max_depth=4,\n",
    "          feature_names=X_test.columns,\n",
    "          rounded=True,\n",
    "          impurity=False,\n",
    "          filled=True,\n",
    "          ax=ax,\n",
    "          fontsize=12);"
   ]
  },
  {
   "cell_type": "markdown",
   "id": "5ec29460",
   "metadata": {},
   "source": [
    "**We have yearly_conv_input_exp making an appearance at a depth of 4. This points to it lacking importance.** So far we have two results that run counter to what we found in our less-accurate Logistic Regression. This does not bode well for our initial hypothesis about conventional agriculture relating to drought, but we will attempt one more model before making conclusions regarding our features: a Gradient Boosting model."
   ]
  },
  {
   "cell_type": "markdown",
   "id": "d03fb281",
   "metadata": {},
   "source": [
    "## Gradient Boosting\n",
    "---\n",
    "The last model we will attempt is a Gradient Boosting (GB) model. GB models iteratively fit sub-models to the residuals of earlier models in an attempt to improve on the data points that it inaccurately classified. In short, GB models use their 'mistakes' to improve their modeling accuracy. \n",
    "\n",
    "GB models are an ensemble model that is aggregating the results of many decision trees. These decision trees are often \"short\", with smaller max depths. We can see some overfitting in GB, but that overfitting is more likely to come from having too many estimators instead of max depths. One main difference between GB and random forest is that GB is using *regression* decision trees, instead of classification decision trees. These regression trees are predicting a linear, continuous target for both the positive, \"in drought\" category, and the negative \"not in drought\" category.\n",
    "\n",
    "Like Random Forests, we can adjust the max depth of the estimators, and the number of estimators used. The main addition that we will vary as we optimize the model is the learning_rate hyperparameter. This controls the contribution of each tree, with smaller learning rates resulting in slower \"learning\" in the model. "
   ]
  },
  {
   "cell_type": "code",
   "execution_count": 58,
   "id": "63f112ef",
   "metadata": {
    "scrolled": false
   },
   "outputs": [
    {
     "name": "stdout",
     "output_type": "stream",
     "text": [
      "      Iter       Train Loss   Remaining Time \n",
      "         1           1.3577           28.61s\n",
      "         2           1.3368           27.88s\n",
      "         3           1.3195           27.58s\n",
      "         4           1.2918           27.10s\n",
      "         5           1.2684           27.10s\n",
      "         6           1.2555           26.92s\n",
      "         7           1.2377           26.53s\n",
      "         8           1.2221           26.08s\n",
      "         9           1.2121           25.96s\n",
      "        10           1.2028           25.64s\n",
      "        20           1.1379           22.93s\n",
      "        30           1.0968           20.29s\n",
      "        40           1.0698           17.50s\n",
      "        50           1.0515           14.60s\n",
      "        60           1.0361           11.65s\n",
      "        70           1.0157            8.73s\n",
      "        80           1.0001            5.85s\n",
      "        90           0.9838            2.94s\n",
      "       100           0.9736            0.00s\n",
      "Train Score: 0.7698684124812716\n",
      "Validate Score: 0.7669858641130871\n"
     ]
    }
   ],
   "source": [
    "#importing boosting\n",
    "from sklearn.ensemble import GradientBoostingClassifier\n",
    "\n",
    "#running with the defaults set up:\n",
    "# no limit to the max depth, a learning rate of .1 and 100 estimators (\"Trees\")\n",
    "#instantiate\n",
    "GB_model = GradientBoostingClassifier(verbose=1)\n",
    "\n",
    "#fit\n",
    "GB_model.fit(X_train, y_train)\n",
    "\n",
    "#score\n",
    "print(f'Train Score: {GB_model.score(X_train, y_train)}')\n",
    "print(f'Validate Score: {GB_model.score(X_validate, y_validate)}')"
   ]
  },
  {
   "cell_type": "markdown",
   "id": "972dc820",
   "metadata": {},
   "source": [
    "Running our GB model with the defaults has resulted in a well fit model--**the train a validate scores are within half a percent of each other at 77% and 76.7%** Although the first pass is not as accurate as our Decision Tree or Random Forest models, it should generalize well. Instead of performing some manual hyperparameter tuning on one or two parameters, we will proceed with a grid search cross-validation of the model. \n",
    "\n",
    "This grid search will involve splitting our training data into 4 subsets of data that are cross-validated after we model with them: we get the average accuracy score from the four subsets. This modeling is done with different combinations of hyperparameters applied to the 4 subsets. \n",
    "\n",
    "We will test the GB model using four setting for three different hyperparameters:\n",
    "\n",
    "* n_estimators: 20, 40, 80, 160\n",
    "* max_depth: 1, 2, 3, 4\n",
    "* learning_rate: .01, .1, 1, 10\n",
    "\n",
    "This method of tuning hyperparameters is exhaustive and computationally expensive--but we can be more confident that we have dialed in our model's potential."
   ]
  },
  {
   "cell_type": "code",
   "execution_count": 59,
   "id": "dbea8b16",
   "metadata": {
    "scrolled": true
   },
   "outputs": [
    {
     "name": "stdout",
     "output_type": "stream",
     "text": [
      "Fitting 4 folds for each of 64 candidates, totalling 256 fits\n",
      "[CV] END ...learning_rate=0.01, max_depth=1, n_estimators=20; total time=   1.7s\n",
      "[CV] END ...learning_rate=0.01, max_depth=1, n_estimators=20; total time=   1.5s\n",
      "[CV] END ...learning_rate=0.01, max_depth=1, n_estimators=20; total time=   1.6s\n",
      "[CV] END ...learning_rate=0.01, max_depth=1, n_estimators=20; total time=   1.6s\n",
      "[CV] END ...learning_rate=0.01, max_depth=1, n_estimators=40; total time=   3.1s\n",
      "[CV] END ...learning_rate=0.01, max_depth=1, n_estimators=40; total time=   3.2s\n",
      "[CV] END ...learning_rate=0.01, max_depth=1, n_estimators=40; total time=   3.1s\n",
      "[CV] END ...learning_rate=0.01, max_depth=1, n_estimators=40; total time=   3.2s\n",
      "[CV] END ...learning_rate=0.01, max_depth=1, n_estimators=80; total time=   6.4s\n",
      "[CV] END ...learning_rate=0.01, max_depth=1, n_estimators=80; total time=   6.4s\n",
      "[CV] END ...learning_rate=0.01, max_depth=1, n_estimators=80; total time=   6.4s\n",
      "[CV] END ...learning_rate=0.01, max_depth=1, n_estimators=80; total time=   6.4s\n",
      "[CV] END ..learning_rate=0.01, max_depth=1, n_estimators=160; total time=  12.7s\n",
      "[CV] END ..learning_rate=0.01, max_depth=1, n_estimators=160; total time=  12.8s\n",
      "[CV] END ..learning_rate=0.01, max_depth=1, n_estimators=160; total time=  12.8s\n",
      "[CV] END ..learning_rate=0.01, max_depth=1, n_estimators=160; total time=  12.8s\n",
      "[CV] END ...learning_rate=0.01, max_depth=2, n_estimators=20; total time=   2.8s\n",
      "[CV] END ...learning_rate=0.01, max_depth=2, n_estimators=20; total time=   2.8s\n",
      "[CV] END ...learning_rate=0.01, max_depth=2, n_estimators=20; total time=   2.8s\n",
      "[CV] END ...learning_rate=0.01, max_depth=2, n_estimators=20; total time=   2.8s\n",
      "[CV] END ...learning_rate=0.01, max_depth=2, n_estimators=40; total time=   5.9s\n",
      "[CV] END ...learning_rate=0.01, max_depth=2, n_estimators=40; total time=   5.8s\n",
      "[CV] END ...learning_rate=0.01, max_depth=2, n_estimators=40; total time=   5.8s\n",
      "[CV] END ...learning_rate=0.01, max_depth=2, n_estimators=40; total time=   5.7s\n",
      "[CV] END ...learning_rate=0.01, max_depth=2, n_estimators=80; total time=  11.6s\n",
      "[CV] END ...learning_rate=0.01, max_depth=2, n_estimators=80; total time=  11.6s\n",
      "[CV] END ...learning_rate=0.01, max_depth=2, n_estimators=80; total time=  11.5s\n",
      "[CV] END ...learning_rate=0.01, max_depth=2, n_estimators=80; total time=  11.6s\n",
      "[CV] END ..learning_rate=0.01, max_depth=2, n_estimators=160; total time=  23.3s\n",
      "[CV] END ..learning_rate=0.01, max_depth=2, n_estimators=160; total time=  23.3s\n",
      "[CV] END ..learning_rate=0.01, max_depth=2, n_estimators=160; total time=  23.3s\n",
      "[CV] END ..learning_rate=0.01, max_depth=2, n_estimators=160; total time=  23.2s\n",
      "[CV] END ...learning_rate=0.01, max_depth=3, n_estimators=20; total time=   4.2s\n",
      "[CV] END ...learning_rate=0.01, max_depth=3, n_estimators=20; total time=   4.2s\n",
      "[CV] END ...learning_rate=0.01, max_depth=3, n_estimators=20; total time=   4.2s\n",
      "[CV] END ...learning_rate=0.01, max_depth=3, n_estimators=20; total time=   4.2s\n",
      "[CV] END ...learning_rate=0.01, max_depth=3, n_estimators=40; total time=   8.4s\n",
      "[CV] END ...learning_rate=0.01, max_depth=3, n_estimators=40; total time=   8.4s\n",
      "[CV] END ...learning_rate=0.01, max_depth=3, n_estimators=40; total time=   8.4s\n",
      "[CV] END ...learning_rate=0.01, max_depth=3, n_estimators=40; total time=   8.4s\n",
      "[CV] END ...learning_rate=0.01, max_depth=3, n_estimators=80; total time=  17.0s\n",
      "[CV] END ...learning_rate=0.01, max_depth=3, n_estimators=80; total time=  16.9s\n",
      "[CV] END ...learning_rate=0.01, max_depth=3, n_estimators=80; total time=  16.9s\n",
      "[CV] END ...learning_rate=0.01, max_depth=3, n_estimators=80; total time=  16.9s\n",
      "[CV] END ..learning_rate=0.01, max_depth=3, n_estimators=160; total time=  34.0s\n",
      "[CV] END ..learning_rate=0.01, max_depth=3, n_estimators=160; total time=  34.1s\n",
      "[CV] END ..learning_rate=0.01, max_depth=3, n_estimators=160; total time=  34.2s\n",
      "[CV] END ..learning_rate=0.01, max_depth=3, n_estimators=160; total time=  34.1s\n",
      "[CV] END ...learning_rate=0.01, max_depth=4, n_estimators=20; total time=   5.6s\n",
      "[CV] END ...learning_rate=0.01, max_depth=4, n_estimators=20; total time=   5.6s\n",
      "[CV] END ...learning_rate=0.01, max_depth=4, n_estimators=20; total time=   5.6s\n",
      "[CV] END ...learning_rate=0.01, max_depth=4, n_estimators=20; total time=   5.6s\n",
      "[CV] END ...learning_rate=0.01, max_depth=4, n_estimators=40; total time=  11.2s\n",
      "[CV] END ...learning_rate=0.01, max_depth=4, n_estimators=40; total time=  11.2s\n",
      "[CV] END ...learning_rate=0.01, max_depth=4, n_estimators=40; total time=  11.2s\n",
      "[CV] END ...learning_rate=0.01, max_depth=4, n_estimators=40; total time=  11.2s\n",
      "[CV] END ...learning_rate=0.01, max_depth=4, n_estimators=80; total time=  22.3s\n",
      "[CV] END ...learning_rate=0.01, max_depth=4, n_estimators=80; total time=  22.3s\n",
      "[CV] END ...learning_rate=0.01, max_depth=4, n_estimators=80; total time=  22.3s\n",
      "[CV] END ...learning_rate=0.01, max_depth=4, n_estimators=80; total time=  22.2s\n",
      "[CV] END ..learning_rate=0.01, max_depth=4, n_estimators=160; total time=  44.9s\n",
      "[CV] END ..learning_rate=0.01, max_depth=4, n_estimators=160; total time=  45.1s\n",
      "[CV] END ..learning_rate=0.01, max_depth=4, n_estimators=160; total time=  44.9s\n",
      "[CV] END ..learning_rate=0.01, max_depth=4, n_estimators=160; total time=  44.9s\n",
      "[CV] END ....learning_rate=0.1, max_depth=1, n_estimators=20; total time=   1.6s\n",
      "[CV] END ....learning_rate=0.1, max_depth=1, n_estimators=20; total time=   1.6s\n",
      "[CV] END ....learning_rate=0.1, max_depth=1, n_estimators=20; total time=   1.6s\n",
      "[CV] END ....learning_rate=0.1, max_depth=1, n_estimators=20; total time=   1.6s\n",
      "[CV] END ....learning_rate=0.1, max_depth=1, n_estimators=40; total time=   3.2s\n",
      "[CV] END ....learning_rate=0.1, max_depth=1, n_estimators=40; total time=   3.2s\n",
      "[CV] END ....learning_rate=0.1, max_depth=1, n_estimators=40; total time=   3.2s\n",
      "[CV] END ....learning_rate=0.1, max_depth=1, n_estimators=40; total time=   3.2s\n",
      "[CV] END ....learning_rate=0.1, max_depth=1, n_estimators=80; total time=   6.4s\n",
      "[CV] END ....learning_rate=0.1, max_depth=1, n_estimators=80; total time=   6.4s\n",
      "[CV] END ....learning_rate=0.1, max_depth=1, n_estimators=80; total time=   6.3s\n",
      "[CV] END ....learning_rate=0.1, max_depth=1, n_estimators=80; total time=   6.5s\n",
      "[CV] END ...learning_rate=0.1, max_depth=1, n_estimators=160; total time=  12.9s\n",
      "[CV] END ...learning_rate=0.1, max_depth=1, n_estimators=160; total time=  12.9s\n",
      "[CV] END ...learning_rate=0.1, max_depth=1, n_estimators=160; total time=  12.8s\n",
      "[CV] END ...learning_rate=0.1, max_depth=1, n_estimators=160; total time=  12.9s\n",
      "[CV] END ....learning_rate=0.1, max_depth=2, n_estimators=20; total time=   2.9s\n",
      "[CV] END ....learning_rate=0.1, max_depth=2, n_estimators=20; total time=   2.9s\n",
      "[CV] END ....learning_rate=0.1, max_depth=2, n_estimators=20; total time=   2.9s\n",
      "[CV] END ....learning_rate=0.1, max_depth=2, n_estimators=20; total time=   2.9s\n",
      "[CV] END ....learning_rate=0.1, max_depth=2, n_estimators=40; total time=   5.8s\n",
      "[CV] END ....learning_rate=0.1, max_depth=2, n_estimators=40; total time=   5.8s\n",
      "[CV] END ....learning_rate=0.1, max_depth=2, n_estimators=40; total time=   5.9s\n",
      "[CV] END ....learning_rate=0.1, max_depth=2, n_estimators=40; total time=   5.8s\n",
      "[CV] END ....learning_rate=0.1, max_depth=2, n_estimators=80; total time=  11.7s\n",
      "[CV] END ....learning_rate=0.1, max_depth=2, n_estimators=80; total time=  11.7s\n",
      "[CV] END ....learning_rate=0.1, max_depth=2, n_estimators=80; total time=  11.7s\n",
      "[CV] END ....learning_rate=0.1, max_depth=2, n_estimators=80; total time=  11.6s\n",
      "[CV] END ...learning_rate=0.1, max_depth=2, n_estimators=160; total time=  23.3s\n",
      "[CV] END ...learning_rate=0.1, max_depth=2, n_estimators=160; total time=  23.3s\n",
      "[CV] END ...learning_rate=0.1, max_depth=2, n_estimators=160; total time=  23.2s\n",
      "[CV] END ...learning_rate=0.1, max_depth=2, n_estimators=160; total time=  23.5s\n",
      "[CV] END ....learning_rate=0.1, max_depth=3, n_estimators=20; total time=   4.2s\n",
      "[CV] END ....learning_rate=0.1, max_depth=3, n_estimators=20; total time=   4.2s\n",
      "[CV] END ....learning_rate=0.1, max_depth=3, n_estimators=20; total time=   4.2s\n",
      "[CV] END ....learning_rate=0.1, max_depth=3, n_estimators=20; total time=   4.3s\n",
      "[CV] END ....learning_rate=0.1, max_depth=3, n_estimators=40; total time=   8.5s\n"
     ]
    },
    {
     "name": "stdout",
     "output_type": "stream",
     "text": [
      "[CV] END ....learning_rate=0.1, max_depth=3, n_estimators=40; total time=   8.5s\n",
      "[CV] END ....learning_rate=0.1, max_depth=3, n_estimators=40; total time=   8.4s\n",
      "[CV] END ....learning_rate=0.1, max_depth=3, n_estimators=40; total time=   8.6s\n",
      "[CV] END ....learning_rate=0.1, max_depth=3, n_estimators=80; total time=  17.0s\n",
      "[CV] END ....learning_rate=0.1, max_depth=3, n_estimators=80; total time=  17.0s\n",
      "[CV] END ....learning_rate=0.1, max_depth=3, n_estimators=80; total time=  17.0s\n",
      "[CV] END ....learning_rate=0.1, max_depth=3, n_estimators=80; total time=  17.5s\n",
      "[CV] END ...learning_rate=0.1, max_depth=3, n_estimators=160; total time=  34.5s\n",
      "[CV] END ...learning_rate=0.1, max_depth=3, n_estimators=160; total time=  34.7s\n",
      "[CV] END ...learning_rate=0.1, max_depth=3, n_estimators=160; total time=  34.5s\n",
      "[CV] END ...learning_rate=0.1, max_depth=3, n_estimators=160; total time=  34.8s\n",
      "[CV] END ....learning_rate=0.1, max_depth=4, n_estimators=20; total time=   5.8s\n",
      "[CV] END ....learning_rate=0.1, max_depth=4, n_estimators=20; total time=   5.6s\n",
      "[CV] END ....learning_rate=0.1, max_depth=4, n_estimators=20; total time=   5.6s\n",
      "[CV] END ....learning_rate=0.1, max_depth=4, n_estimators=20; total time=   5.6s\n",
      "[CV] END ....learning_rate=0.1, max_depth=4, n_estimators=40; total time=  11.4s\n",
      "[CV] END ....learning_rate=0.1, max_depth=4, n_estimators=40; total time=  11.5s\n",
      "[CV] END ....learning_rate=0.1, max_depth=4, n_estimators=40; total time=  11.4s\n",
      "[CV] END ....learning_rate=0.1, max_depth=4, n_estimators=40; total time=  11.5s\n",
      "[CV] END ....learning_rate=0.1, max_depth=4, n_estimators=80; total time=  22.6s\n",
      "[CV] END ....learning_rate=0.1, max_depth=4, n_estimators=80; total time=  22.6s\n",
      "[CV] END ....learning_rate=0.1, max_depth=4, n_estimators=80; total time=  22.9s\n",
      "[CV] END ....learning_rate=0.1, max_depth=4, n_estimators=80; total time=  22.7s\n",
      "[CV] END ...learning_rate=0.1, max_depth=4, n_estimators=160; total time=  45.6s\n",
      "[CV] END ...learning_rate=0.1, max_depth=4, n_estimators=160; total time=  46.2s\n",
      "[CV] END ...learning_rate=0.1, max_depth=4, n_estimators=160; total time=  45.6s\n",
      "[CV] END ...learning_rate=0.1, max_depth=4, n_estimators=160; total time=  45.6s\n",
      "[CV] END ......learning_rate=1, max_depth=1, n_estimators=20; total time=   1.6s\n",
      "[CV] END ......learning_rate=1, max_depth=1, n_estimators=20; total time=   1.6s\n",
      "[CV] END ......learning_rate=1, max_depth=1, n_estimators=20; total time=   1.5s\n",
      "[CV] END ......learning_rate=1, max_depth=1, n_estimators=20; total time=   1.6s\n",
      "[CV] END ......learning_rate=1, max_depth=1, n_estimators=40; total time=   3.2s\n",
      "[CV] END ......learning_rate=1, max_depth=1, n_estimators=40; total time=   3.2s\n",
      "[CV] END ......learning_rate=1, max_depth=1, n_estimators=40; total time=   3.2s\n",
      "[CV] END ......learning_rate=1, max_depth=1, n_estimators=40; total time=   3.2s\n",
      "[CV] END ......learning_rate=1, max_depth=1, n_estimators=80; total time=   6.5s\n",
      "[CV] END ......learning_rate=1, max_depth=1, n_estimators=80; total time=   6.4s\n",
      "[CV] END ......learning_rate=1, max_depth=1, n_estimators=80; total time=   6.7s\n",
      "[CV] END ......learning_rate=1, max_depth=1, n_estimators=80; total time=   6.8s\n",
      "[CV] END .....learning_rate=1, max_depth=1, n_estimators=160; total time=  13.1s\n",
      "[CV] END .....learning_rate=1, max_depth=1, n_estimators=160; total time=  13.0s\n",
      "[CV] END .....learning_rate=1, max_depth=1, n_estimators=160; total time=  12.8s\n",
      "[CV] END .....learning_rate=1, max_depth=1, n_estimators=160; total time=  12.9s\n",
      "[CV] END ......learning_rate=1, max_depth=2, n_estimators=20; total time=   2.9s\n",
      "[CV] END ......learning_rate=1, max_depth=2, n_estimators=20; total time=   2.9s\n",
      "[CV] END ......learning_rate=1, max_depth=2, n_estimators=20; total time=   2.9s\n",
      "[CV] END ......learning_rate=1, max_depth=2, n_estimators=20; total time=   2.9s\n",
      "[CV] END ......learning_rate=1, max_depth=2, n_estimators=40; total time=   6.0s\n",
      "[CV] END ......learning_rate=1, max_depth=2, n_estimators=40; total time=   5.9s\n",
      "[CV] END ......learning_rate=1, max_depth=2, n_estimators=40; total time=   5.9s\n",
      "[CV] END ......learning_rate=1, max_depth=2, n_estimators=40; total time=   5.9s\n",
      "[CV] END ......learning_rate=1, max_depth=2, n_estimators=80; total time=  11.8s\n",
      "[CV] END ......learning_rate=1, max_depth=2, n_estimators=80; total time=  11.7s\n",
      "[CV] END ......learning_rate=1, max_depth=2, n_estimators=80; total time=  11.9s\n",
      "[CV] END ......learning_rate=1, max_depth=2, n_estimators=80; total time=  12.1s\n",
      "[CV] END .....learning_rate=1, max_depth=2, n_estimators=160; total time=  24.1s\n",
      "[CV] END .....learning_rate=1, max_depth=2, n_estimators=160; total time=  23.8s\n",
      "[CV] END .....learning_rate=1, max_depth=2, n_estimators=160; total time=  23.9s\n",
      "[CV] END .....learning_rate=1, max_depth=2, n_estimators=160; total time=  23.6s\n",
      "[CV] END ......learning_rate=1, max_depth=3, n_estimators=20; total time=   4.2s\n",
      "[CV] END ......learning_rate=1, max_depth=3, n_estimators=20; total time=   4.2s\n",
      "[CV] END ......learning_rate=1, max_depth=3, n_estimators=20; total time=   4.3s\n",
      "[CV] END ......learning_rate=1, max_depth=3, n_estimators=20; total time=   4.4s\n",
      "[CV] END ......learning_rate=1, max_depth=3, n_estimators=40; total time=   8.8s\n",
      "[CV] END ......learning_rate=1, max_depth=3, n_estimators=40; total time=   8.5s\n",
      "[CV] END ......learning_rate=1, max_depth=3, n_estimators=40; total time=   8.5s\n",
      "[CV] END ......learning_rate=1, max_depth=3, n_estimators=40; total time=   8.6s\n",
      "[CV] END ......learning_rate=1, max_depth=3, n_estimators=80; total time=  17.1s\n",
      "[CV] END ......learning_rate=1, max_depth=3, n_estimators=80; total time=  17.2s\n",
      "[CV] END ......learning_rate=1, max_depth=3, n_estimators=80; total time=  17.0s\n",
      "[CV] END ......learning_rate=1, max_depth=3, n_estimators=80; total time=  17.1s\n",
      "[CV] END .....learning_rate=1, max_depth=3, n_estimators=160; total time=  34.4s\n",
      "[CV] END .....learning_rate=1, max_depth=3, n_estimators=160; total time=  34.5s\n",
      "[CV] END .....learning_rate=1, max_depth=3, n_estimators=160; total time=  34.2s\n",
      "[CV] END .....learning_rate=1, max_depth=3, n_estimators=160; total time=  34.6s\n",
      "[CV] END ......learning_rate=1, max_depth=4, n_estimators=20; total time=   5.6s\n",
      "[CV] END ......learning_rate=1, max_depth=4, n_estimators=20; total time=   5.7s\n",
      "[CV] END ......learning_rate=1, max_depth=4, n_estimators=20; total time=   5.8s\n",
      "[CV] END ......learning_rate=1, max_depth=4, n_estimators=20; total time=   5.9s\n",
      "[CV] END ......learning_rate=1, max_depth=4, n_estimators=40; total time=  11.2s\n",
      "[CV] END ......learning_rate=1, max_depth=4, n_estimators=40; total time=  11.3s\n",
      "[CV] END ......learning_rate=1, max_depth=4, n_estimators=40; total time=  11.3s\n",
      "[CV] END ......learning_rate=1, max_depth=4, n_estimators=40; total time=  11.1s\n",
      "[CV] END ......learning_rate=1, max_depth=4, n_estimators=80; total time=  22.4s\n",
      "[CV] END ......learning_rate=1, max_depth=4, n_estimators=80; total time=  22.4s\n",
      "[CV] END ......learning_rate=1, max_depth=4, n_estimators=80; total time=  22.6s\n",
      "[CV] END ......learning_rate=1, max_depth=4, n_estimators=80; total time=  22.8s\n",
      "[CV] END .....learning_rate=1, max_depth=4, n_estimators=160; total time=  45.7s\n",
      "[CV] END .....learning_rate=1, max_depth=4, n_estimators=160; total time=  45.6s\n",
      "[CV] END .....learning_rate=1, max_depth=4, n_estimators=160; total time=  45.9s\n",
      "[CV] END .....learning_rate=1, max_depth=4, n_estimators=160; total time=  45.5s\n",
      "[CV] END .....learning_rate=10, max_depth=1, n_estimators=20; total time=   1.8s\n",
      "[CV] END .....learning_rate=10, max_depth=1, n_estimators=20; total time=   1.8s\n",
      "[CV] END .....learning_rate=10, max_depth=1, n_estimators=20; total time=   1.8s\n",
      "[CV] END .....learning_rate=10, max_depth=1, n_estimators=20; total time=   1.8s\n",
      "[CV] END .....learning_rate=10, max_depth=1, n_estimators=40; total time=   3.8s\n",
      "[CV] END .....learning_rate=10, max_depth=1, n_estimators=40; total time=   3.6s\n",
      "[CV] END .....learning_rate=10, max_depth=1, n_estimators=40; total time=   3.7s\n",
      "[CV] END .....learning_rate=10, max_depth=1, n_estimators=40; total time=   3.7s\n",
      "[CV] END .....learning_rate=10, max_depth=1, n_estimators=80; total time=   7.5s\n",
      "[CV] END .....learning_rate=10, max_depth=1, n_estimators=80; total time=   7.9s\n",
      "[CV] END .....learning_rate=10, max_depth=1, n_estimators=80; total time=   7.6s\n"
     ]
    },
    {
     "name": "stdout",
     "output_type": "stream",
     "text": [
      "[CV] END .....learning_rate=10, max_depth=1, n_estimators=80; total time=   7.5s\n",
      "[CV] END ....learning_rate=10, max_depth=1, n_estimators=160; total time=  15.3s\n",
      "[CV] END ....learning_rate=10, max_depth=1, n_estimators=160; total time=  15.1s\n",
      "[CV] END ....learning_rate=10, max_depth=1, n_estimators=160; total time=  15.0s\n",
      "[CV] END ....learning_rate=10, max_depth=1, n_estimators=160; total time=  14.9s\n",
      "[CV] END .....learning_rate=10, max_depth=2, n_estimators=20; total time=   3.1s\n",
      "[CV] END .....learning_rate=10, max_depth=2, n_estimators=20; total time=   3.2s\n",
      "[CV] END .....learning_rate=10, max_depth=2, n_estimators=20; total time=   3.1s\n",
      "[CV] END .....learning_rate=10, max_depth=2, n_estimators=20; total time=   3.1s\n",
      "[CV] END .....learning_rate=10, max_depth=2, n_estimators=40; total time=   6.2s\n",
      "[CV] END .....learning_rate=10, max_depth=2, n_estimators=40; total time=   6.2s\n",
      "[CV] END .....learning_rate=10, max_depth=2, n_estimators=40; total time=   6.2s\n",
      "[CV] END .....learning_rate=10, max_depth=2, n_estimators=40; total time=   6.3s\n",
      "[CV] END .....learning_rate=10, max_depth=2, n_estimators=80; total time=  12.6s\n",
      "[CV] END .....learning_rate=10, max_depth=2, n_estimators=80; total time=  12.6s\n",
      "[CV] END .....learning_rate=10, max_depth=2, n_estimators=80; total time=  12.7s\n",
      "[CV] END .....learning_rate=10, max_depth=2, n_estimators=80; total time=  13.0s\n",
      "[CV] END ....learning_rate=10, max_depth=2, n_estimators=160; total time=  25.4s\n",
      "[CV] END ....learning_rate=10, max_depth=2, n_estimators=160; total time=  25.5s\n",
      "[CV] END ....learning_rate=10, max_depth=2, n_estimators=160; total time=  25.2s\n",
      "[CV] END ....learning_rate=10, max_depth=2, n_estimators=160; total time=  25.1s\n",
      "[CV] END .....learning_rate=10, max_depth=3, n_estimators=20; total time=   4.4s\n",
      "[CV] END .....learning_rate=10, max_depth=3, n_estimators=20; total time=   4.4s\n",
      "[CV] END .....learning_rate=10, max_depth=3, n_estimators=20; total time=   4.3s\n",
      "[CV] END .....learning_rate=10, max_depth=3, n_estimators=20; total time=   4.6s\n",
      "[CV] END .....learning_rate=10, max_depth=3, n_estimators=40; total time=   9.2s\n",
      "[CV] END .....learning_rate=10, max_depth=3, n_estimators=40; total time=   8.9s\n",
      "[CV] END .....learning_rate=10, max_depth=3, n_estimators=40; total time=   8.8s\n",
      "[CV] END .....learning_rate=10, max_depth=3, n_estimators=40; total time=   9.1s\n",
      "[CV] END .....learning_rate=10, max_depth=3, n_estimators=80; total time=  18.1s\n",
      "[CV] END .....learning_rate=10, max_depth=3, n_estimators=80; total time=  18.1s\n",
      "[CV] END .....learning_rate=10, max_depth=3, n_estimators=80; total time=  17.8s\n",
      "[CV] END .....learning_rate=10, max_depth=3, n_estimators=80; total time=  18.2s\n",
      "[CV] END ....learning_rate=10, max_depth=3, n_estimators=160; total time=  36.3s\n",
      "[CV] END ....learning_rate=10, max_depth=3, n_estimators=160; total time=  36.7s\n",
      "[CV] END ....learning_rate=10, max_depth=3, n_estimators=160; total time=  35.7s\n",
      "[CV] END ....learning_rate=10, max_depth=3, n_estimators=160; total time=  36.3s\n",
      "[CV] END .....learning_rate=10, max_depth=4, n_estimators=20; total time=   6.3s\n",
      "[CV] END .....learning_rate=10, max_depth=4, n_estimators=20; total time=   6.0s\n",
      "[CV] END .....learning_rate=10, max_depth=4, n_estimators=20; total time=   5.9s\n",
      "[CV] END .....learning_rate=10, max_depth=4, n_estimators=20; total time=   6.1s\n",
      "[CV] END .....learning_rate=10, max_depth=4, n_estimators=40; total time=  12.3s\n",
      "[CV] END .....learning_rate=10, max_depth=4, n_estimators=40; total time=  11.9s\n",
      "[CV] END .....learning_rate=10, max_depth=4, n_estimators=40; total time=  11.5s\n",
      "[CV] END .....learning_rate=10, max_depth=4, n_estimators=40; total time=  12.2s\n",
      "[CV] END .....learning_rate=10, max_depth=4, n_estimators=80; total time=  24.7s\n",
      "[CV] END .....learning_rate=10, max_depth=4, n_estimators=80; total time=  23.4s\n",
      "[CV] END .....learning_rate=10, max_depth=4, n_estimators=80; total time=  23.5s\n",
      "[CV] END .....learning_rate=10, max_depth=4, n_estimators=80; total time=  24.7s\n",
      "[CV] END ....learning_rate=10, max_depth=4, n_estimators=160; total time=  49.6s\n",
      "[CV] END ....learning_rate=10, max_depth=4, n_estimators=160; total time=  47.1s\n",
      "[CV] END ....learning_rate=10, max_depth=4, n_estimators=160; total time=  46.0s\n",
      "[CV] END ....learning_rate=10, max_depth=4, n_estimators=160; total time=  49.1s\n"
     ]
    },
    {
     "data": {
      "text/plain": [
       "GridSearchCV(cv=4, estimator=GradientBoostingClassifier(),\n",
       "             param_grid={'learning_rate': [0.01, 0.1, 1, 10],\n",
       "                         'max_depth': [1, 2, 3, 4],\n",
       "                         'n_estimators': [20, 40, 80, 160]},\n",
       "             verbose=2)"
      ]
     },
     "execution_count": 59,
     "metadata": {},
     "output_type": "execute_result"
    }
   ],
   "source": [
    "# tune n_estimators of 20, 40, 80, 160 max depth of 1, 2, 3, 4, and a learning rate of .01, .1, 1, 10\n",
    "from sklearn.model_selection import GridSearchCV\n",
    "\n",
    "optGB_model = GradientBoostingClassifier()\n",
    "\n",
    "param_grid = {'n_estimators': [20, 40, 80, 160], 'max_depth': [1, 2, 3, 4], 'learning_rate': [.01, .1, 1, 10]}\n",
    "grid_optGB = GridSearchCV(optGB_model, param_grid=param_grid, cv=4, verbose=2)\n",
    "\n",
    "grid_optGB.fit(X_train, y_train)"
   ]
  },
  {
   "cell_type": "code",
   "execution_count": 60,
   "id": "0e9e7216",
   "metadata": {},
   "outputs": [
    {
     "name": "stdout",
     "output_type": "stream",
     "text": [
      "The optimal hyperparameters:GradientBoostingClassifier(learning_rate=1, max_depth=4, n_estimators=160)\n",
      "Train Score: 0.9100981477862463\n",
      "Validate Score: 0.8934108527131783\n"
     ]
    }
   ],
   "source": [
    "#score and output the best estimator\n",
    "print(f'The optimal hyperparameters:{grid_optGB.best_estimator_}')\n",
    "print(f'Train Score: {grid_optGB.score(X_train, y_train)}')\n",
    "print(f'Validate Score: {grid_optGB.score(X_validate, y_validate)}')"
   ]
  },
  {
   "cell_type": "markdown",
   "id": "ae601805",
   "metadata": {},
   "source": [
    "**Our optimal hyperparameter settings are a learning rate of 1, a max depth of 4, and 160 estimators. We saw plenty of improvement as well, with train and validate accuracy scores reaching 91.0% and 89.3%.**\n",
    "\n",
    "We can use these settings and run the model with our full training and test data."
   ]
  },
  {
   "cell_type": "code",
   "execution_count": 61,
   "id": "e97bd576",
   "metadata": {},
   "outputs": [
    {
     "name": "stdout",
     "output_type": "stream",
     "text": [
      "Full train Score: 0.9099570060582373\n",
      "Test Score: 0.8987053171565833\n"
     ]
    }
   ],
   "source": [
    "#instantiate with our optimal hyperparameters\n",
    "GB_model_test = GradientBoostingClassifier(learning_rate=1, max_depth=4, n_estimators=160)\n",
    "\n",
    "#fit\n",
    "GB_model_test.fit(X_fulltrain, y_fulltrain)\n",
    "\n",
    "#score\n",
    "print(f'Full train Score: {GB_model_test.score(X_fulltrain, y_fulltrain)}')\n",
    "print(f'Test Score: {GB_model_test.score(X_test, y_test)}')"
   ]
  },
  {
   "cell_type": "markdown",
   "id": "2ef74f17",
   "metadata": {},
   "source": [
    "Our model generalized well and appears to have a good fit--we achieved accuracy scores of **91% for the full training dataset and 90% for the test data.** We can check out our confusion matrix for the model too."
   ]
  },
  {
   "cell_type": "code",
   "execution_count": 62,
   "id": "0f09b563",
   "metadata": {},
   "outputs": [
    {
     "data": {
      "text/plain": [
       "array([[29716,  2845],\n",
       "       [ 3375, 25469]], dtype=int64)"
      ]
     },
     "execution_count": 62,
     "metadata": {},
     "output_type": "execute_result"
    }
   ],
   "source": [
    "# Get class predictions\n",
    "y_pred = GB_model_test.predict(X_test)\n",
    "\n",
    "# Generate a basic confusion matrix\n",
    "cf_matrix = confusion_matrix(y_test, y_pred)\n",
    "cf_matrix"
   ]
  },
  {
   "cell_type": "code",
   "execution_count": 63,
   "id": "04bedbd0",
   "metadata": {},
   "outputs": [
    {
     "data": {
      "image/png": "[encoded data removed]",
      "text/plain": [
       "<Figure size 432x288 with 2 Axes>"
      ]
     },
     "metadata": {
      "needs_background": "light"
     },
     "output_type": "display_data"
    }
   ],
   "source": [
    "#plotting the confusion matrix\n",
    "plot_confusion_matrix(GB_model_test, X_test, y_test, cmap='Reds');"
   ]
  },
  {
   "cell_type": "code",
   "execution_count": 64,
   "id": "7556aab4",
   "metadata": {},
   "outputs": [],
   "source": [
    "#true negatives, the top left at 29716\n",
    "tn = cf_matrix[0,0]\n",
    "\n",
    "#false negatives, bottom left at 3375\n",
    "fn = cf_matrix[1,0]\n",
    "\n",
    "#true positives, bottom right at 25469\n",
    "tp = cf_matrix[1,1]\n",
    "\n",
    "#false positives, top right at 2845\n",
    "fp = cf_matrix[0,1]"
   ]
  },
  {
   "cell_type": "code",
   "execution_count": 65,
   "id": "5030acc1",
   "metadata": {},
   "outputs": [
    {
     "name": "stdout",
     "output_type": "stream",
     "text": [
      "Our model's Precision is 25469/28314, or 89.95%\n"
     ]
    }
   ],
   "source": [
    "#getting our precision score\n",
    "precision = tp/(tp+fp)\n",
    "\n",
    "print(f\"Our model's Precision is {tp}/{tp+fp}, or {round(precision*100, 2)}%\")"
   ]
  },
  {
   "cell_type": "code",
   "execution_count": 66,
   "id": "c8c60d2c",
   "metadata": {},
   "outputs": [
    {
     "name": "stdout",
     "output_type": "stream",
     "text": [
      "Our model's Recall is 25469/28844, or 88.3%\n"
     ]
    }
   ],
   "source": [
    "#getting our recall score\n",
    "precision = tp/(tp+fn)\n",
    "\n",
    "print(f\"Our model's Recall is {tp}/{tp+fn}, or {round(precision*100, 2)}%\")"
   ]
  },
  {
   "cell_type": "markdown",
   "id": "5a53e064",
   "metadata": {},
   "source": [
    "Though our Random Forest model outpaced the GB model result, the accuracy, precision, and recall are all still very strong--**like the tuned Decision Tree, the GB model is scoring around 90% for these three measures**\n",
    "\n",
    "To summarize, the Gradient Boosting model **accurately classifies instances where the observed county is in a week of drought 91% of the time.** \n",
    "\n",
    "The model **recalls 88% of the county-weeks** that are **in fact in drought** as a county-week in drought. Finally, our model is precise--**90% of the county-weeks that it predicted as being in drought are in fact in drought.**\n",
    "\n",
    "Like the Random Forest model, we are not able to output a single tree plot, but we can take a look at the feature importances for our GB model."
   ]
  },
  {
   "cell_type": "code",
   "execution_count": 67,
   "id": "49e0ea58",
   "metadata": {
    "scrolled": true
   },
   "outputs": [
    {
     "data": {
      "text/html": [
       "<div>\n",
       "<style scoped>\n",
       "    .dataframe tbody tr th:only-of-type {\n",
       "        vertical-align: middle;\n",
       "    }\n",
       "\n",
       "    .dataframe tbody tr th {\n",
       "        vertical-align: top;\n",
       "    }\n",
       "\n",
       "    .dataframe thead th {\n",
       "        text-align: right;\n",
       "    }\n",
       "</style>\n",
       "<table border=\"1\" class=\"dataframe\">\n",
       "  <thead>\n",
       "    <tr style=\"text-align: right;\">\n",
       "      <th></th>\n",
       "      <th>Feature</th>\n",
       "      <th>Gradient Boosting Importances</th>\n",
       "    </tr>\n",
       "  </thead>\n",
       "  <tbody>\n",
       "    <tr>\n",
       "      <th>0</th>\n",
       "      <td>Year</td>\n",
       "      <td>0.242047</td>\n",
       "    </tr>\n",
       "    <tr>\n",
       "      <th>1</th>\n",
       "      <td>Long</td>\n",
       "      <td>0.205759</td>\n",
       "    </tr>\n",
       "    <tr>\n",
       "      <th>2</th>\n",
       "      <td>Month</td>\n",
       "      <td>0.141135</td>\n",
       "    </tr>\n",
       "    <tr>\n",
       "      <th>3</th>\n",
       "      <td>Lat</td>\n",
       "      <td>0.137593</td>\n",
       "    </tr>\n",
       "    <tr>\n",
       "      <th>4</th>\n",
       "      <td>maxtemp</td>\n",
       "      <td>0.104774</td>\n",
       "    </tr>\n",
       "    <tr>\n",
       "      <th>5</th>\n",
       "      <td>monthly_precip</td>\n",
       "      <td>0.098611</td>\n",
       "    </tr>\n",
       "    <tr>\n",
       "      <th>6</th>\n",
       "      <td>Day</td>\n",
       "      <td>0.018829</td>\n",
       "    </tr>\n",
       "    <tr>\n",
       "      <th>7</th>\n",
       "      <td>yearly_conv_input_exp</td>\n",
       "      <td>0.013994</td>\n",
       "    </tr>\n",
       "    <tr>\n",
       "      <th>8</th>\n",
       "      <td>Acres_operated</td>\n",
       "      <td>0.013981</td>\n",
       "    </tr>\n",
       "    <tr>\n",
       "      <th>9</th>\n",
       "      <td>total_Sq_Mi</td>\n",
       "      <td>0.013329</td>\n",
       "    </tr>\n",
       "    <tr>\n",
       "      <th>10</th>\n",
       "      <td>Operations</td>\n",
       "      <td>0.009948</td>\n",
       "    </tr>\n",
       "  </tbody>\n",
       "</table>\n",
       "</div>"
      ],
      "text/plain": [
       "                  Feature  Gradient Boosting Importances\n",
       "0                    Year                       0.242047\n",
       "1                    Long                       0.205759\n",
       "2                   Month                       0.141135\n",
       "3                     Lat                       0.137593\n",
       "4                 maxtemp                       0.104774\n",
       "5          monthly_precip                       0.098611\n",
       "6                     Day                       0.018829\n",
       "7   yearly_conv_input_exp                       0.013994\n",
       "8          Acres_operated                       0.013981\n",
       "9             total_Sq_Mi                       0.013329\n",
       "10             Operations                       0.009948"
      ]
     },
     "execution_count": 67,
     "metadata": {},
     "output_type": "execute_result"
    }
   ],
   "source": [
    "#checking the feature importances for the Gradient Boosting model\n",
    "feature_df = pd.DataFrame(\n",
    "    {\"Feature\":X_test.columns,\n",
    "     \"Gradient Boosting Importances\": GB_model_test.feature_importances_})\n",
    "\n",
    "feature_df.sort_values(by='Gradient Boosting Importances', ascending=False, ignore_index=True)"
   ]
  },
  {
   "cell_type": "markdown",
   "id": "2ee2a5fd",
   "metadata": {},
   "source": [
    "Not only do our Gradient Boosting model's features have the same order of importance as our Random Forest, but it has greater weights assigned to their importances. \n",
    "\n",
    "Year was assigned 24% of the importance, Longitude is again in second and has 20.6% assigned to it, and Month and Latitude are both around 14%. Just like the Random Forest model, we see Maximum temperature and Monthly Precipitation near 10%. \n",
    "\n",
    "**The most noticeable difference, however, is that our feature associated with conventional agricultural input costs, yearly_conv_input_exp, has an even lower importance of about 1%.**"
   ]
  },
  {
   "cell_type": "markdown",
   "id": "525fa40b",
   "metadata": {},
   "source": [
    "# Feature Importance Comparison\n",
    "---\n",
    "\n",
    "With a tuned Decision Tree, Random Forest, and Gradient Boosting model in hand, lets compare the feature_importances for each model. Our logistic regression coefficients are not included mainly because they are not comparable to feature importances. That being said, we know that Monthly Precipitation was by far the strongest coefficient and that conventional ag input expenses was a more distant second. \n",
    "\n",
    "Thus far we have seen our Decision Tree, Random Forest, and Gradient Boosting models assign the conventional ag cost feature far less importance. Lets incorporate the feature importances for our Decision Tree model into a dataframe along with the Random Forest and Gradient Boosting numbers."
   ]
  },
  {
   "cell_type": "code",
   "execution_count": 68,
   "id": "7aa363d5",
   "metadata": {
    "scrolled": true
   },
   "outputs": [
    {
     "data": {
      "text/html": [
       "<div>\n",
       "<style scoped>\n",
       "    .dataframe tbody tr th:only-of-type {\n",
       "        vertical-align: middle;\n",
       "    }\n",
       "\n",
       "    .dataframe tbody tr th {\n",
       "        vertical-align: top;\n",
       "    }\n",
       "\n",
       "    .dataframe thead th {\n",
       "        text-align: right;\n",
       "    }\n",
       "</style>\n",
       "<table border=\"1\" class=\"dataframe\">\n",
       "  <thead>\n",
       "    <tr style=\"text-align: right;\">\n",
       "      <th></th>\n",
       "      <th>Feature</th>\n",
       "      <th>Decision Tree Importances</th>\n",
       "      <th>Random Forest Importances</th>\n",
       "      <th>Gradient Boosting Importances</th>\n",
       "    </tr>\n",
       "  </thead>\n",
       "  <tbody>\n",
       "    <tr>\n",
       "      <th>0</th>\n",
       "      <td>total_Sq_Mi</td>\n",
       "      <td>0.010696</td>\n",
       "      <td>0.043011</td>\n",
       "      <td>0.013329</td>\n",
       "    </tr>\n",
       "    <tr>\n",
       "      <th>1</th>\n",
       "      <td>Year</td>\n",
       "      <td>0.192495</td>\n",
       "      <td>0.170939</td>\n",
       "      <td>0.242047</td>\n",
       "    </tr>\n",
       "    <tr>\n",
       "      <th>2</th>\n",
       "      <td>Month</td>\n",
       "      <td>0.136285</td>\n",
       "      <td>0.122044</td>\n",
       "      <td>0.141135</td>\n",
       "    </tr>\n",
       "    <tr>\n",
       "      <th>3</th>\n",
       "      <td>Day</td>\n",
       "      <td>0.043973</td>\n",
       "      <td>0.039617</td>\n",
       "      <td>0.018829</td>\n",
       "    </tr>\n",
       "    <tr>\n",
       "      <th>4</th>\n",
       "      <td>monthly_precip</td>\n",
       "      <td>0.080111</td>\n",
       "      <td>0.090916</td>\n",
       "      <td>0.098611</td>\n",
       "    </tr>\n",
       "    <tr>\n",
       "      <th>5</th>\n",
       "      <td>maxtemp</td>\n",
       "      <td>0.105626</td>\n",
       "      <td>0.124456</td>\n",
       "      <td>0.104774</td>\n",
       "    </tr>\n",
       "    <tr>\n",
       "      <th>6</th>\n",
       "      <td>Acres_operated</td>\n",
       "      <td>0.009049</td>\n",
       "      <td>0.044260</td>\n",
       "      <td>0.013981</td>\n",
       "    </tr>\n",
       "    <tr>\n",
       "      <th>7</th>\n",
       "      <td>Operations</td>\n",
       "      <td>0.010004</td>\n",
       "      <td>0.037625</td>\n",
       "      <td>0.009948</td>\n",
       "    </tr>\n",
       "    <tr>\n",
       "      <th>8</th>\n",
       "      <td>yearly_conv_input_exp</td>\n",
       "      <td>0.017739</td>\n",
       "      <td>0.045256</td>\n",
       "      <td>0.013994</td>\n",
       "    </tr>\n",
       "    <tr>\n",
       "      <th>9</th>\n",
       "      <td>Lat</td>\n",
       "      <td>0.164772</td>\n",
       "      <td>0.131854</td>\n",
       "      <td>0.137593</td>\n",
       "    </tr>\n",
       "    <tr>\n",
       "      <th>10</th>\n",
       "      <td>Long</td>\n",
       "      <td>0.229251</td>\n",
       "      <td>0.150021</td>\n",
       "      <td>0.205759</td>\n",
       "    </tr>\n",
       "  </tbody>\n",
       "</table>\n",
       "</div>"
      ],
      "text/plain": [
       "                  Feature  Decision Tree Importances  \\\n",
       "0             total_Sq_Mi                   0.010696   \n",
       "1                    Year                   0.192495   \n",
       "2                   Month                   0.136285   \n",
       "3                     Day                   0.043973   \n",
       "4          monthly_precip                   0.080111   \n",
       "5                 maxtemp                   0.105626   \n",
       "6          Acres_operated                   0.009049   \n",
       "7              Operations                   0.010004   \n",
       "8   yearly_conv_input_exp                   0.017739   \n",
       "9                     Lat                   0.164772   \n",
       "10                   Long                   0.229251   \n",
       "\n",
       "    Random Forest Importances  Gradient Boosting Importances  \n",
       "0                    0.043011                       0.013329  \n",
       "1                    0.170939                       0.242047  \n",
       "2                    0.122044                       0.141135  \n",
       "3                    0.039617                       0.018829  \n",
       "4                    0.090916                       0.098611  \n",
       "5                    0.124456                       0.104774  \n",
       "6                    0.044260                       0.013981  \n",
       "7                    0.037625                       0.009948  \n",
       "8                    0.045256                       0.013994  \n",
       "9                    0.131854                       0.137593  \n",
       "10                   0.150021                       0.205759  "
      ]
     },
     "execution_count": 68,
     "metadata": {},
     "output_type": "execute_result"
    }
   ],
   "source": [
    "#checking the feature importances for the Decision Tree, Random Forest, and Gradient Boosting model\n",
    "feature_df = pd.DataFrame(\n",
    "    {\"Feature\":X_test.columns,\n",
    "     \"Decision Tree Importances\": DT_modeltest.feature_importances_,\n",
    "     \"Random Forest Importances\": OptRF_model.feature_importances_,\n",
    "     \"Gradient Boosting Importances\": GB_model_test.feature_importances_})\n",
    "\n",
    "feature_df"
   ]
  },
  {
   "cell_type": "code",
   "execution_count": 69,
   "id": "52bf149f",
   "metadata": {},
   "outputs": [
    {
     "data": {
      "text/html": [
       "<div>\n",
       "<style scoped>\n",
       "    .dataframe tbody tr th:only-of-type {\n",
       "        vertical-align: middle;\n",
       "    }\n",
       "\n",
       "    .dataframe tbody tr th {\n",
       "        vertical-align: top;\n",
       "    }\n",
       "\n",
       "    .dataframe thead th {\n",
       "        text-align: right;\n",
       "    }\n",
       "</style>\n",
       "<table border=\"1\" class=\"dataframe\">\n",
       "  <thead>\n",
       "    <tr style=\"text-align: right;\">\n",
       "      <th></th>\n",
       "      <th>Feature</th>\n",
       "      <th>Decision Tree Importances</th>\n",
       "      <th>Random Forest Importances</th>\n",
       "      <th>Gradient Boosting Importances</th>\n",
       "      <th>Average Importance Scores</th>\n",
       "    </tr>\n",
       "  </thead>\n",
       "  <tbody>\n",
       "    <tr>\n",
       "      <th>0</th>\n",
       "      <td>total_Sq_Mi</td>\n",
       "      <td>0.010696</td>\n",
       "      <td>0.043011</td>\n",
       "      <td>0.013329</td>\n",
       "      <td>0.022345</td>\n",
       "    </tr>\n",
       "    <tr>\n",
       "      <th>1</th>\n",
       "      <td>Year</td>\n",
       "      <td>0.192495</td>\n",
       "      <td>0.170939</td>\n",
       "      <td>0.242047</td>\n",
       "      <td>0.201827</td>\n",
       "    </tr>\n",
       "    <tr>\n",
       "      <th>2</th>\n",
       "      <td>Month</td>\n",
       "      <td>0.136285</td>\n",
       "      <td>0.122044</td>\n",
       "      <td>0.141135</td>\n",
       "      <td>0.133155</td>\n",
       "    </tr>\n",
       "    <tr>\n",
       "      <th>3</th>\n",
       "      <td>Day</td>\n",
       "      <td>0.043973</td>\n",
       "      <td>0.039617</td>\n",
       "      <td>0.018829</td>\n",
       "      <td>0.034139</td>\n",
       "    </tr>\n",
       "    <tr>\n",
       "      <th>4</th>\n",
       "      <td>monthly_precip</td>\n",
       "      <td>0.080111</td>\n",
       "      <td>0.090916</td>\n",
       "      <td>0.098611</td>\n",
       "      <td>0.089879</td>\n",
       "    </tr>\n",
       "    <tr>\n",
       "      <th>5</th>\n",
       "      <td>maxtemp</td>\n",
       "      <td>0.105626</td>\n",
       "      <td>0.124456</td>\n",
       "      <td>0.104774</td>\n",
       "      <td>0.111619</td>\n",
       "    </tr>\n",
       "    <tr>\n",
       "      <th>6</th>\n",
       "      <td>Acres_operated</td>\n",
       "      <td>0.009049</td>\n",
       "      <td>0.044260</td>\n",
       "      <td>0.013981</td>\n",
       "      <td>0.022430</td>\n",
       "    </tr>\n",
       "    <tr>\n",
       "      <th>7</th>\n",
       "      <td>Operations</td>\n",
       "      <td>0.010004</td>\n",
       "      <td>0.037625</td>\n",
       "      <td>0.009948</td>\n",
       "      <td>0.019192</td>\n",
       "    </tr>\n",
       "    <tr>\n",
       "      <th>8</th>\n",
       "      <td>yearly_conv_input_exp</td>\n",
       "      <td>0.017739</td>\n",
       "      <td>0.045256</td>\n",
       "      <td>0.013994</td>\n",
       "      <td>0.025663</td>\n",
       "    </tr>\n",
       "    <tr>\n",
       "      <th>9</th>\n",
       "      <td>Lat</td>\n",
       "      <td>0.164772</td>\n",
       "      <td>0.131854</td>\n",
       "      <td>0.137593</td>\n",
       "      <td>0.144740</td>\n",
       "    </tr>\n",
       "    <tr>\n",
       "      <th>10</th>\n",
       "      <td>Long</td>\n",
       "      <td>0.229251</td>\n",
       "      <td>0.150021</td>\n",
       "      <td>0.205759</td>\n",
       "      <td>0.195010</td>\n",
       "    </tr>\n",
       "  </tbody>\n",
       "</table>\n",
       "</div>"
      ],
      "text/plain": [
       "                  Feature  Decision Tree Importances  \\\n",
       "0             total_Sq_Mi                   0.010696   \n",
       "1                    Year                   0.192495   \n",
       "2                   Month                   0.136285   \n",
       "3                     Day                   0.043973   \n",
       "4          monthly_precip                   0.080111   \n",
       "5                 maxtemp                   0.105626   \n",
       "6          Acres_operated                   0.009049   \n",
       "7              Operations                   0.010004   \n",
       "8   yearly_conv_input_exp                   0.017739   \n",
       "9                     Lat                   0.164772   \n",
       "10                   Long                   0.229251   \n",
       "\n",
       "    Random Forest Importances  Gradient Boosting Importances  \\\n",
       "0                    0.043011                       0.013329   \n",
       "1                    0.170939                       0.242047   \n",
       "2                    0.122044                       0.141135   \n",
       "3                    0.039617                       0.018829   \n",
       "4                    0.090916                       0.098611   \n",
       "5                    0.124456                       0.104774   \n",
       "6                    0.044260                       0.013981   \n",
       "7                    0.037625                       0.009948   \n",
       "8                    0.045256                       0.013994   \n",
       "9                    0.131854                       0.137593   \n",
       "10                   0.150021                       0.205759   \n",
       "\n",
       "    Average Importance Scores  \n",
       "0                    0.022345  \n",
       "1                    0.201827  \n",
       "2                    0.133155  \n",
       "3                    0.034139  \n",
       "4                    0.089879  \n",
       "5                    0.111619  \n",
       "6                    0.022430  \n",
       "7                    0.019192  \n",
       "8                    0.025663  \n",
       "9                    0.144740  \n",
       "10                   0.195010  "
      ]
     },
     "execution_count": 69,
     "metadata": {},
     "output_type": "execute_result"
    }
   ],
   "source": [
    "feature_df['Average Importance Scores'] = ((\n",
    "    feature_df[\"Decision Tree Importances\"] + \n",
    "    feature_df[\"Random Forest Importances\"] + \n",
    "    feature_df[\"Gradient Boosting Importances\"])/3)\n",
    "\n",
    "feature_df"
   ]
  },
  {
   "cell_type": "code",
   "execution_count": 70,
   "id": "3b4b1a5a",
   "metadata": {
    "scrolled": false
   },
   "outputs": [
    {
     "data": {
      "text/html": [
       "<div>\n",
       "<style scoped>\n",
       "    .dataframe tbody tr th:only-of-type {\n",
       "        vertical-align: middle;\n",
       "    }\n",
       "\n",
       "    .dataframe tbody tr th {\n",
       "        vertical-align: top;\n",
       "    }\n",
       "\n",
       "    .dataframe thead th {\n",
       "        text-align: right;\n",
       "    }\n",
       "</style>\n",
       "<table border=\"1\" class=\"dataframe\">\n",
       "  <thead>\n",
       "    <tr style=\"text-align: right;\">\n",
       "      <th></th>\n",
       "      <th>Feature</th>\n",
       "      <th>Decision Tree Importances</th>\n",
       "      <th>Random Forest Importances</th>\n",
       "      <th>Gradient Boosting Importances</th>\n",
       "      <th>Average Importance Scores</th>\n",
       "    </tr>\n",
       "  </thead>\n",
       "  <tbody>\n",
       "    <tr>\n",
       "      <th>0</th>\n",
       "      <td>Year</td>\n",
       "      <td>0.192495</td>\n",
       "      <td>0.170939</td>\n",
       "      <td>0.242047</td>\n",
       "      <td>0.201827</td>\n",
       "    </tr>\n",
       "    <tr>\n",
       "      <th>1</th>\n",
       "      <td>Long</td>\n",
       "      <td>0.229251</td>\n",
       "      <td>0.150021</td>\n",
       "      <td>0.205759</td>\n",
       "      <td>0.195010</td>\n",
       "    </tr>\n",
       "    <tr>\n",
       "      <th>2</th>\n",
       "      <td>Lat</td>\n",
       "      <td>0.164772</td>\n",
       "      <td>0.131854</td>\n",
       "      <td>0.137593</td>\n",
       "      <td>0.144740</td>\n",
       "    </tr>\n",
       "    <tr>\n",
       "      <th>3</th>\n",
       "      <td>Month</td>\n",
       "      <td>0.136285</td>\n",
       "      <td>0.122044</td>\n",
       "      <td>0.141135</td>\n",
       "      <td>0.133155</td>\n",
       "    </tr>\n",
       "    <tr>\n",
       "      <th>4</th>\n",
       "      <td>maxtemp</td>\n",
       "      <td>0.105626</td>\n",
       "      <td>0.124456</td>\n",
       "      <td>0.104774</td>\n",
       "      <td>0.111619</td>\n",
       "    </tr>\n",
       "    <tr>\n",
       "      <th>5</th>\n",
       "      <td>monthly_precip</td>\n",
       "      <td>0.080111</td>\n",
       "      <td>0.090916</td>\n",
       "      <td>0.098611</td>\n",
       "      <td>0.089879</td>\n",
       "    </tr>\n",
       "    <tr>\n",
       "      <th>6</th>\n",
       "      <td>Day</td>\n",
       "      <td>0.043973</td>\n",
       "      <td>0.039617</td>\n",
       "      <td>0.018829</td>\n",
       "      <td>0.034139</td>\n",
       "    </tr>\n",
       "    <tr>\n",
       "      <th>7</th>\n",
       "      <td>yearly_conv_input_exp</td>\n",
       "      <td>0.017739</td>\n",
       "      <td>0.045256</td>\n",
       "      <td>0.013994</td>\n",
       "      <td>0.025663</td>\n",
       "    </tr>\n",
       "    <tr>\n",
       "      <th>8</th>\n",
       "      <td>Acres_operated</td>\n",
       "      <td>0.009049</td>\n",
       "      <td>0.044260</td>\n",
       "      <td>0.013981</td>\n",
       "      <td>0.022430</td>\n",
       "    </tr>\n",
       "    <tr>\n",
       "      <th>9</th>\n",
       "      <td>total_Sq_Mi</td>\n",
       "      <td>0.010696</td>\n",
       "      <td>0.043011</td>\n",
       "      <td>0.013329</td>\n",
       "      <td>0.022345</td>\n",
       "    </tr>\n",
       "    <tr>\n",
       "      <th>10</th>\n",
       "      <td>Operations</td>\n",
       "      <td>0.010004</td>\n",
       "      <td>0.037625</td>\n",
       "      <td>0.009948</td>\n",
       "      <td>0.019192</td>\n",
       "    </tr>\n",
       "  </tbody>\n",
       "</table>\n",
       "</div>"
      ],
      "text/plain": [
       "                  Feature  Decision Tree Importances  \\\n",
       "0                    Year                   0.192495   \n",
       "1                    Long                   0.229251   \n",
       "2                     Lat                   0.164772   \n",
       "3                   Month                   0.136285   \n",
       "4                 maxtemp                   0.105626   \n",
       "5          monthly_precip                   0.080111   \n",
       "6                     Day                   0.043973   \n",
       "7   yearly_conv_input_exp                   0.017739   \n",
       "8          Acres_operated                   0.009049   \n",
       "9             total_Sq_Mi                   0.010696   \n",
       "10             Operations                   0.010004   \n",
       "\n",
       "    Random Forest Importances  Gradient Boosting Importances  \\\n",
       "0                    0.170939                       0.242047   \n",
       "1                    0.150021                       0.205759   \n",
       "2                    0.131854                       0.137593   \n",
       "3                    0.122044                       0.141135   \n",
       "4                    0.124456                       0.104774   \n",
       "5                    0.090916                       0.098611   \n",
       "6                    0.039617                       0.018829   \n",
       "7                    0.045256                       0.013994   \n",
       "8                    0.044260                       0.013981   \n",
       "9                    0.043011                       0.013329   \n",
       "10                   0.037625                       0.009948   \n",
       "\n",
       "    Average Importance Scores  \n",
       "0                    0.201827  \n",
       "1                    0.195010  \n",
       "2                    0.144740  \n",
       "3                    0.133155  \n",
       "4                    0.111619  \n",
       "5                    0.089879  \n",
       "6                    0.034139  \n",
       "7                    0.025663  \n",
       "8                    0.022430  \n",
       "9                    0.022345  \n",
       "10                   0.019192  "
      ]
     },
     "execution_count": 70,
     "metadata": {},
     "output_type": "execute_result"
    }
   ],
   "source": [
    "feature_df.sort_values(by='Average Importance Scores', ascending=False, inplace=True, ignore_index=True)\n",
    "feature_df"
   ]
  },
  {
   "cell_type": "code",
   "execution_count": 71,
   "id": "71247278",
   "metadata": {},
   "outputs": [],
   "source": [
    "#exporting the feature_df to be used for visualization\n",
    "feature_df.to_csv('feature_imp_df.csv', index=False)"
   ]
  },
  {
   "cell_type": "markdown",
   "id": "8fde6f08",
   "metadata": {},
   "source": [
    "The Decision Tree model has a slightly different ranking, placing Longitude ahead of Year for its amount of importance. Otherwise the top features remain the same--Latitude, Month and Maximum temperature are all above 10%, trailed closely by monthly precipitation. The conventonal agriculture feature is in the bottom half of import for all three models, pretty conclusively pointing to its relative lack of weight in the predictions that our models were making."
   ]
  },
  {
   "cell_type": "code",
   "execution_count": 72,
   "id": "87c0d51d",
   "metadata": {},
   "outputs": [
    {
     "data": {
      "image/png": "[encoded data removed]",
      "text/plain": [
       "<Figure size 1440x504 with 1 Axes>"
      ]
     },
     "metadata": {
      "needs_background": "light"
     },
     "output_type": "display_data"
    }
   ],
   "source": [
    "#graphing the average feature importance\n",
    "plt.figure(figsize=(20, 7))\n",
    "plt.bar(feature_df['Feature'], feature_df['Average Importance Scores']*100)\n",
    "plt.title('Average Feature Importance for Decision Tree, Random Forest, and Gradient Boosting Models', fontsize=16)\n",
    "plt.ylabel('Importance (%)')\n",
    "plt.xlabel('Feature')\n",
    "sns.despine()\n",
    "plt.show()"
   ]
  },
  {
   "cell_type": "markdown",
   "id": "4393e4ff",
   "metadata": {},
   "source": [
    "Conclusions\n",
    "---\n",
    "\n",
    "\n",
    "I started the project with a hypothesis, a preconceived notion, really: that areas with higher rates of conventional agriculture over time must have higher drought rates. I thought that my data analysis would uncover some clear trends in that direction. I assumed that the level of conventional agricultural chemical and fertilizer inputs would have *at least* a modest affect in my model's performance.\n",
    "\n",
    "I was wrong. \n",
    "\n",
    "The conventional ag inputs feature was stronger coefficient for our logistic regression, but its utility seems to be limited beyond the logistic regression. It didn't appear in our Decision tree until we hit a depth of four, with a feature importance percent of 2% . It was one of the weaker features for my Random Forest at 4.6% and it was roughly tied for last in the GB model at about 1%. **Overall, Conventional Agricultural Input Expenses** - our operational means of representing higher or lower conventional agriculture practices in a county - **ranked 8th out of 11 features, averaging 2.6% importance**.\n",
    "\n",
    "**Our final, Random Forest model ultimately had the best performance of all four models, with 94% accuracy.** The Random Forest model also turned in **top precision and recall, at 95% and 92%.**\n",
    "\n",
    "But the features being used do not lend themselves to *reaction*. The average farmer cannot *react* to signs of drought and change their geography. Knowing that the model uses Year as a high importance feature tells us that *some years have markedly worse drought conditions than others.* But that isn't something that can be *reacted to* until the dry year is upon us.\n",
    "\n",
    "What our data is telling us is that the best way to weather drought is with proaction. **One way, likely the best way, to proactively improve your odds against drought is to improve the health and water retention of your soil by adopting no or low-till methods of farming.**"
   ]
  }
 ],
 "metadata": {
  "kernelspec": {
   "display_name": "Python 3 (ipykernel)",
   "language": "python",
   "name": "python3"
  },
  "language_info": {
   "codemirror_mode": {
    "name": "ipython",
    "version": 3
   },
   "file_extension": ".py",
   "mimetype": "text/x-python",
   "name": "python",
   "nbconvert_exporter": "python",
   "pygments_lexer": "ipython3",
   "version": "3.9.7"
  }
 },
 "nbformat": 4,
 "nbformat_minor": 5
}
